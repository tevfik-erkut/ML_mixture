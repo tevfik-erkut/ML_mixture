{
 "cells": [
  {
   "cell_type": "markdown",
   "metadata": {},
   "source": [
    "## Importing Packages"
   ]
  },
  {
   "cell_type": "code",
   "execution_count": 3,
   "metadata": {},
   "outputs": [
    {
     "data": {
      "text/html": [
       "<div>\n",
       "<style scoped>\n",
       "    .dataframe tbody tr th:only-of-type {\n",
       "        vertical-align: middle;\n",
       "    }\n",
       "\n",
       "    .dataframe tbody tr th {\n",
       "        vertical-align: top;\n",
       "    }\n",
       "\n",
       "    .dataframe thead th {\n",
       "        text-align: right;\n",
       "    }\n",
       "</style>\n",
       "<table border=\"1\" class=\"dataframe\">\n",
       "  <thead>\n",
       "    <tr style=\"text-align: right;\">\n",
       "      <th></th>\n",
       "      <th>Unnamed: 0</th>\n",
       "      <th>trans_date_trans_time</th>\n",
       "      <th>cc_num</th>\n",
       "      <th>merchant</th>\n",
       "      <th>category</th>\n",
       "      <th>amt</th>\n",
       "      <th>first</th>\n",
       "      <th>last</th>\n",
       "      <th>gender</th>\n",
       "      <th>street</th>\n",
       "      <th>city</th>\n",
       "      <th>state</th>\n",
       "      <th>zip</th>\n",
       "      <th>lat</th>\n",
       "      <th>long</th>\n",
       "      <th>city_pop</th>\n",
       "      <th>job</th>\n",
       "      <th>dob</th>\n",
       "      <th>trans_num</th>\n",
       "      <th>unix_time</th>\n",
       "      <th>merch_lat</th>\n",
       "      <th>merch_long</th>\n",
       "      <th>is_fraud</th>\n",
       "    </tr>\n",
       "  </thead>\n",
       "  <tbody>\n",
       "    <tr>\n",
       "      <th>0</th>\n",
       "      <td>0</td>\n",
       "      <td>2019-01-01 00:00:18</td>\n",
       "      <td>2703186189652095</td>\n",
       "      <td>fraud_Rippin, Kub and Mann</td>\n",
       "      <td>misc_net</td>\n",
       "      <td>4.970000</td>\n",
       "      <td>Jennifer</td>\n",
       "      <td>Banks</td>\n",
       "      <td>F</td>\n",
       "      <td>561 Perry Cove</td>\n",
       "      <td>Moravian Falls</td>\n",
       "      <td>NC</td>\n",
       "      <td>28654</td>\n",
       "      <td>36.078800</td>\n",
       "      <td>-81.178100</td>\n",
       "      <td>3495</td>\n",
       "      <td>Psychologist, counselling</td>\n",
       "      <td>1988-03-09</td>\n",
       "      <td>0b242abb623afc578575680df30655b9</td>\n",
       "      <td>1325376018</td>\n",
       "      <td>36.011293</td>\n",
       "      <td>-82.048315</td>\n",
       "      <td>0</td>\n",
       "    </tr>\n",
       "    <tr>\n",
       "      <th>1</th>\n",
       "      <td>1</td>\n",
       "      <td>2019-01-01 00:00:44</td>\n",
       "      <td>630423337322</td>\n",
       "      <td>fraud_Heller, Gutmann and Zieme</td>\n",
       "      <td>grocery_pos</td>\n",
       "      <td>107.230000</td>\n",
       "      <td>Stephanie</td>\n",
       "      <td>Gill</td>\n",
       "      <td>F</td>\n",
       "      <td>43039 Riley Greens Suite 393</td>\n",
       "      <td>Orient</td>\n",
       "      <td>WA</td>\n",
       "      <td>99160</td>\n",
       "      <td>48.887800</td>\n",
       "      <td>-118.210500</td>\n",
       "      <td>149</td>\n",
       "      <td>Special educational needs teacher</td>\n",
       "      <td>1978-06-21</td>\n",
       "      <td>1f76529f8574734946361c461b024d99</td>\n",
       "      <td>1325376044</td>\n",
       "      <td>49.159047</td>\n",
       "      <td>-118.186462</td>\n",
       "      <td>0</td>\n",
       "    </tr>\n",
       "    <tr>\n",
       "      <th>2</th>\n",
       "      <td>2</td>\n",
       "      <td>2019-01-01 00:00:51</td>\n",
       "      <td>38859492057661</td>\n",
       "      <td>fraud_Lind-Buckridge</td>\n",
       "      <td>entertainment</td>\n",
       "      <td>220.110000</td>\n",
       "      <td>Edward</td>\n",
       "      <td>Sanchez</td>\n",
       "      <td>M</td>\n",
       "      <td>594 White Dale Suite 530</td>\n",
       "      <td>Malad City</td>\n",
       "      <td>ID</td>\n",
       "      <td>83252</td>\n",
       "      <td>42.180800</td>\n",
       "      <td>-112.262000</td>\n",
       "      <td>4154</td>\n",
       "      <td>Nature conservation officer</td>\n",
       "      <td>1962-01-19</td>\n",
       "      <td>a1a22d70485983eac12b5b88dad1cf95</td>\n",
       "      <td>1325376051</td>\n",
       "      <td>43.150704</td>\n",
       "      <td>-112.154481</td>\n",
       "      <td>0</td>\n",
       "    </tr>\n",
       "    <tr>\n",
       "      <th>3</th>\n",
       "      <td>3</td>\n",
       "      <td>2019-01-01 00:01:16</td>\n",
       "      <td>3534093764340240</td>\n",
       "      <td>fraud_Kutch, Hermiston and Farrell</td>\n",
       "      <td>gas_transport</td>\n",
       "      <td>45.000000</td>\n",
       "      <td>Jeremy</td>\n",
       "      <td>White</td>\n",
       "      <td>M</td>\n",
       "      <td>9443 Cynthia Court Apt. 038</td>\n",
       "      <td>Boulder</td>\n",
       "      <td>MT</td>\n",
       "      <td>59632</td>\n",
       "      <td>46.230600</td>\n",
       "      <td>-112.113800</td>\n",
       "      <td>1939</td>\n",
       "      <td>Patent attorney</td>\n",
       "      <td>1967-01-12</td>\n",
       "      <td>6b849c168bdad6f867558c3793159a81</td>\n",
       "      <td>1325376076</td>\n",
       "      <td>47.034331</td>\n",
       "      <td>-112.561071</td>\n",
       "      <td>0</td>\n",
       "    </tr>\n",
       "    <tr>\n",
       "      <th>4</th>\n",
       "      <td>4</td>\n",
       "      <td>2019-01-01 00:03:06</td>\n",
       "      <td>375534208663984</td>\n",
       "      <td>fraud_Keeling-Crist</td>\n",
       "      <td>misc_pos</td>\n",
       "      <td>41.960000</td>\n",
       "      <td>Tyler</td>\n",
       "      <td>Garcia</td>\n",
       "      <td>M</td>\n",
       "      <td>408 Bradley Rest</td>\n",
       "      <td>Doe Hill</td>\n",
       "      <td>VA</td>\n",
       "      <td>24433</td>\n",
       "      <td>38.420700</td>\n",
       "      <td>-79.462900</td>\n",
       "      <td>99</td>\n",
       "      <td>Dance movement psychotherapist</td>\n",
       "      <td>1986-03-28</td>\n",
       "      <td>a41d7549acf90789359a9aa5346dcb46</td>\n",
       "      <td>1325376186</td>\n",
       "      <td>38.674999</td>\n",
       "      <td>-78.632459</td>\n",
       "      <td>0</td>\n",
       "    </tr>\n",
       "  </tbody>\n",
       "</table>\n",
       "</div>"
      ],
      "text/plain": [
       "   Unnamed: 0 trans_date_trans_time            cc_num  \\\n",
       "0           0   2019-01-01 00:00:18  2703186189652095   \n",
       "1           1   2019-01-01 00:00:44      630423337322   \n",
       "2           2   2019-01-01 00:00:51    38859492057661   \n",
       "3           3   2019-01-01 00:01:16  3534093764340240   \n",
       "4           4   2019-01-01 00:03:06   375534208663984   \n",
       "\n",
       "                             merchant       category        amt      first  \\\n",
       "0          fraud_Rippin, Kub and Mann       misc_net   4.970000   Jennifer   \n",
       "1     fraud_Heller, Gutmann and Zieme    grocery_pos 107.230000  Stephanie   \n",
       "2                fraud_Lind-Buckridge  entertainment 220.110000     Edward   \n",
       "3  fraud_Kutch, Hermiston and Farrell  gas_transport  45.000000     Jeremy   \n",
       "4                 fraud_Keeling-Crist       misc_pos  41.960000      Tyler   \n",
       "\n",
       "      last gender                        street            city state    zip  \\\n",
       "0    Banks      F                561 Perry Cove  Moravian Falls    NC  28654   \n",
       "1     Gill      F  43039 Riley Greens Suite 393          Orient    WA  99160   \n",
       "2  Sanchez      M      594 White Dale Suite 530      Malad City    ID  83252   \n",
       "3    White      M   9443 Cynthia Court Apt. 038         Boulder    MT  59632   \n",
       "4   Garcia      M              408 Bradley Rest        Doe Hill    VA  24433   \n",
       "\n",
       "        lat        long  city_pop                                job  \\\n",
       "0 36.078800  -81.178100      3495          Psychologist, counselling   \n",
       "1 48.887800 -118.210500       149  Special educational needs teacher   \n",
       "2 42.180800 -112.262000      4154        Nature conservation officer   \n",
       "3 46.230600 -112.113800      1939                    Patent attorney   \n",
       "4 38.420700  -79.462900        99     Dance movement psychotherapist   \n",
       "\n",
       "          dob                         trans_num   unix_time  merch_lat  \\\n",
       "0  1988-03-09  0b242abb623afc578575680df30655b9  1325376018  36.011293   \n",
       "1  1978-06-21  1f76529f8574734946361c461b024d99  1325376044  49.159047   \n",
       "2  1962-01-19  a1a22d70485983eac12b5b88dad1cf95  1325376051  43.150704   \n",
       "3  1967-01-12  6b849c168bdad6f867558c3793159a81  1325376076  47.034331   \n",
       "4  1986-03-28  a41d7549acf90789359a9aa5346dcb46  1325376186  38.674999   \n",
       "\n",
       "   merch_long  is_fraud  \n",
       "0  -82.048315         0  \n",
       "1 -118.186462         0  \n",
       "2 -112.154481         0  \n",
       "3 -112.561071         0  \n",
       "4  -78.632459         0  "
      ]
     },
     "execution_count": 3,
     "metadata": {},
     "output_type": "execute_result"
    }
   ],
   "source": [
    "\n",
    "\n",
    "import pandas as pd\n",
    "import numpy as np\n",
    "import matplotlib.pyplot as plt\n",
    "import seaborn as sns\n",
    "\n",
    "from sklearn.model_selection import train_test_split, StratifiedKFold, GridSearchCV, cross_val_score\n",
    "from sklearn.preprocessing import StandardScaler\n",
    "import scipy.stats as stats\n",
    "from sklearn.linear_model import LogisticRegression\n",
    "from sklearn.tree import DecisionTreeClassifier\n",
    "from sklearn.ensemble import RandomForestClassifier\n",
    "from sklearn import metrics\n",
    "from sklearn.metrics import confusion_matrix, classification_report,precision_score, accuracy_score, f1_score, r2_score, precision_recall_curve, roc_curve\n",
    "\n",
    "\n",
    "#modules for avoiding warnings\n",
    "import warnings\n",
    "warnings.filterwarnings('ignore')\n",
    "\n",
    "#setting backend for matplotlib\n",
    "%matplotlib inline\n",
    "\n",
    "#setting formatting options\n",
    "pd.options.display.max_columns = 100\n",
    "pd.options.display.max_rows = 900\n",
    "pd.set_option('float_format' , '{:f}'.format)\n",
    "\n",
    "#setting plot style\n",
    "plt.style.use('seaborn-darkgrid')\n",
    "df= pd.read_csv(\"/Users/tevfikerkut/Downloads/fraudTrain.csv\")\n",
    "df.head()"
   ]
  },
  {
   "cell_type": "code",
   "execution_count": 4,
   "metadata": {},
   "outputs": [],
   "source": [
    "df = df.iloc[:,1:]  # getting rid of unnamed column"
   ]
  },
  {
   "cell_type": "code",
   "execution_count": 5,
   "metadata": {},
   "outputs": [
    {
     "data": {
      "text/plain": [
       "trans_date_trans_time    1274791\n",
       "cc_num                       983\n",
       "merchant                     693\n",
       "category                      14\n",
       "amt                        52928\n",
       "first                        352\n",
       "last                         481\n",
       "gender                         2\n",
       "street                       983\n",
       "city                         894\n",
       "state                         51\n",
       "zip                          970\n",
       "lat                          968\n",
       "long                         969\n",
       "city_pop                     879\n",
       "job                          494\n",
       "dob                          968\n",
       "trans_num                1296675\n",
       "unix_time                1274823\n",
       "merch_lat                1247805\n",
       "merch_long               1275745\n",
       "is_fraud                       2\n",
       "dtype: int64"
      ]
     },
     "execution_count": 5,
     "metadata": {},
     "output_type": "execute_result"
    }
   ],
   "source": [
    "# Number of unique values in the dataset\n",
    "\n",
    "df.nunique()"
   ]
  },
  {
   "cell_type": "code",
   "execution_count": 6,
   "metadata": {},
   "outputs": [
    {
     "data": {
      "text/plain": [
       "trans_date_trans_time    0\n",
       "cc_num                   0\n",
       "merchant                 0\n",
       "category                 0\n",
       "amt                      0\n",
       "first                    0\n",
       "last                     0\n",
       "gender                   0\n",
       "street                   0\n",
       "city                     0\n",
       "state                    0\n",
       "zip                      0\n",
       "lat                      0\n",
       "long                     0\n",
       "city_pop                 0\n",
       "job                      0\n",
       "dob                      0\n",
       "trans_num                0\n",
       "unix_time                0\n",
       "merch_lat                0\n",
       "merch_long               0\n",
       "is_fraud                 0\n",
       "dtype: int64"
      ]
     },
     "execution_count": 6,
     "metadata": {},
     "output_type": "execute_result"
    }
   ],
   "source": [
    "# Null values\n",
    "\n",
    "df.isna().sum()"
   ]
  },
  {
   "cell_type": "code",
   "execution_count": 7,
   "metadata": {},
   "outputs": [],
   "source": [
    "df['trans_date_trans_time'] = pd.to_datetime(df['trans_date_trans_time'])  # converting transaction time into datetime object"
   ]
  },
  {
   "cell_type": "code",
   "execution_count": 8,
   "metadata": {},
   "outputs": [],
   "source": [
    "# Creating new columns from transaction time\n",
    "df['tx_hour'] = df['trans_date_trans_time'].dt.hour\n",
    "df['tx_dayofweek'] = df['trans_date_trans_time'].dt.day_name()\n",
    "df['tx_month'] = df['trans_date_trans_time'].dt.to_period('M')"
   ]
  },
  {
   "cell_type": "code",
   "execution_count": 9,
   "metadata": {},
   "outputs": [
    {
     "data": {
      "text/plain": [
       "1296670   59.000000\n",
       "1296671   41.000000\n",
       "1296672   53.000000\n",
       "1296673   40.000000\n",
       "1296674   25.000000\n",
       "Name: age, dtype: float64"
      ]
     },
     "execution_count": 9,
     "metadata": {},
     "output_type": "execute_result"
    }
   ],
   "source": [
    "# Finding Age variable\n",
    "# Converting 'dob' column to datetime object\n",
    "df['dob'] = pd.to_datetime(df['dob'])\n",
    "df['age'] = np.round((df['trans_date_trans_time'] - \n",
    "                      df['dob'])/np.timedelta64(1, 'Y'))\n",
    "df.age.tail()"
   ]
  },
  {
   "cell_type": "code",
   "execution_count": 10,
   "metadata": {},
   "outputs": [],
   "source": [
    "# Dropping unneeded variables\n",
    "df.drop(['trans_date_trans_time','first', 'last', 'dob'] , axis=1, inplace=True)"
   ]
  },
  {
   "cell_type": "code",
   "execution_count": 12,
   "metadata": {},
   "outputs": [
    {
     "data": {
      "text/plain": [
       "0   99.421135\n",
       "1    0.578865\n",
       "Name: is_fraud, dtype: float64"
      ]
     },
     "execution_count": 12,
     "metadata": {},
     "output_type": "execute_result"
    }
   ],
   "source": [
    "# Our target variable is imbalanced\n",
    "100*df.is_fraud.value_counts(normalize=True)"
   ]
  },
  {
   "cell_type": "code",
   "execution_count": 13,
   "metadata": {},
   "outputs": [
    {
     "data": {
      "image/png": "[encoded data removed]",
      "text/plain": [
       "<Figure size 720x576 with 3 Axes>"
      ]
     },
     "metadata": {},
     "output_type": "display_data"
    }
   ],
   "source": [
    "fix, ax = plt.subplots(figsize=(10,8))\n",
    "\n",
    "plot = [0,0,0]\n",
    "#plotting the 'tx_hour' feature\n",
    "plot[0] = sns.countplot(df.tx_hour, ax = plt.subplot(221))\n",
    "#plotting the 'tx_dayofweek' feature\n",
    "plot[1] = sns.countplot(df.tx_dayofweek, ax = plt.subplot(222))\n",
    "#plotting the 'tx_month' feature\n",
    "plot[2] = sns.countplot(df.tx_month, ax = plt.subplot(212))\n",
    "\n",
    "for i in plot:\n",
    "  i.set_xticklabels(i.get_xticklabels(), rotation=30)\n",
    "plt.show()"
   ]
  },
  {
   "cell_type": "code",
   "execution_count": 14,
   "metadata": {},
   "outputs": [
    {
     "data": {
      "text/html": [
       "<div>\n",
       "<style scoped>\n",
       "    .dataframe tbody tr th:only-of-type {\n",
       "        vertical-align: middle;\n",
       "    }\n",
       "\n",
       "    .dataframe tbody tr th {\n",
       "        vertical-align: top;\n",
       "    }\n",
       "\n",
       "    .dataframe thead th {\n",
       "        text-align: right;\n",
       "    }\n",
       "</style>\n",
       "<table border=\"1\" class=\"dataframe\">\n",
       "  <thead>\n",
       "    <tr style=\"text-align: right;\">\n",
       "      <th></th>\n",
       "      <th>year_month</th>\n",
       "      <th>num_of_transactions</th>\n",
       "      <th>customers</th>\n",
       "    </tr>\n",
       "  </thead>\n",
       "  <tbody>\n",
       "    <tr>\n",
       "      <th>0</th>\n",
       "      <td>2019-01</td>\n",
       "      <td>52525</td>\n",
       "      <td>913</td>\n",
       "    </tr>\n",
       "    <tr>\n",
       "      <th>1</th>\n",
       "      <td>2019-02</td>\n",
       "      <td>49866</td>\n",
       "      <td>918</td>\n",
       "    </tr>\n",
       "    <tr>\n",
       "      <th>2</th>\n",
       "      <td>2019-03</td>\n",
       "      <td>70939</td>\n",
       "      <td>916</td>\n",
       "    </tr>\n",
       "    <tr>\n",
       "      <th>3</th>\n",
       "      <td>2019-04</td>\n",
       "      <td>68078</td>\n",
       "      <td>913</td>\n",
       "    </tr>\n",
       "    <tr>\n",
       "      <th>4</th>\n",
       "      <td>2019-05</td>\n",
       "      <td>72532</td>\n",
       "      <td>910</td>\n",
       "    </tr>\n",
       "    <tr>\n",
       "      <th>5</th>\n",
       "      <td>2019-06</td>\n",
       "      <td>86064</td>\n",
       "      <td>908</td>\n",
       "    </tr>\n",
       "    <tr>\n",
       "      <th>6</th>\n",
       "      <td>2019-07</td>\n",
       "      <td>86596</td>\n",
       "      <td>910</td>\n",
       "    </tr>\n",
       "    <tr>\n",
       "      <th>7</th>\n",
       "      <td>2019-08</td>\n",
       "      <td>87359</td>\n",
       "      <td>911</td>\n",
       "    </tr>\n",
       "    <tr>\n",
       "      <th>8</th>\n",
       "      <td>2019-09</td>\n",
       "      <td>70652</td>\n",
       "      <td>913</td>\n",
       "    </tr>\n",
       "    <tr>\n",
       "      <th>9</th>\n",
       "      <td>2019-10</td>\n",
       "      <td>68758</td>\n",
       "      <td>912</td>\n",
       "    </tr>\n",
       "    <tr>\n",
       "      <th>10</th>\n",
       "      <td>2019-11</td>\n",
       "      <td>70421</td>\n",
       "      <td>911</td>\n",
       "    </tr>\n",
       "    <tr>\n",
       "      <th>11</th>\n",
       "      <td>2019-12</td>\n",
       "      <td>141060</td>\n",
       "      <td>916</td>\n",
       "    </tr>\n",
       "    <tr>\n",
       "      <th>12</th>\n",
       "      <td>2020-01</td>\n",
       "      <td>52202</td>\n",
       "      <td>911</td>\n",
       "    </tr>\n",
       "    <tr>\n",
       "      <th>13</th>\n",
       "      <td>2020-02</td>\n",
       "      <td>47791</td>\n",
       "      <td>909</td>\n",
       "    </tr>\n",
       "    <tr>\n",
       "      <th>14</th>\n",
       "      <td>2020-03</td>\n",
       "      <td>72850</td>\n",
       "      <td>912</td>\n",
       "    </tr>\n",
       "    <tr>\n",
       "      <th>15</th>\n",
       "      <td>2020-04</td>\n",
       "      <td>66892</td>\n",
       "      <td>914</td>\n",
       "    </tr>\n",
       "    <tr>\n",
       "      <th>16</th>\n",
       "      <td>2020-05</td>\n",
       "      <td>74343</td>\n",
       "      <td>915</td>\n",
       "    </tr>\n",
       "    <tr>\n",
       "      <th>17</th>\n",
       "      <td>2020-06</td>\n",
       "      <td>57747</td>\n",
       "      <td>910</td>\n",
       "    </tr>\n",
       "  </tbody>\n",
       "</table>\n",
       "</div>"
      ],
      "text/plain": [
       "   year_month  num_of_transactions  customers\n",
       "0     2019-01                52525        913\n",
       "1     2019-02                49866        918\n",
       "2     2019-03                70939        916\n",
       "3     2019-04                68078        913\n",
       "4     2019-05                72532        910\n",
       "5     2019-06                86064        908\n",
       "6     2019-07                86596        910\n",
       "7     2019-08                87359        911\n",
       "8     2019-09                70652        913\n",
       "9     2019-10                68758        912\n",
       "10    2019-11                70421        911\n",
       "11    2019-12               141060        916\n",
       "12    2020-01                52202        911\n",
       "13    2020-02                47791        909\n",
       "14    2020-03                72850        912\n",
       "15    2020-04                66892        914\n",
       "16    2020-05                74343        915\n",
       "17    2020-06                57747        910"
      ]
     },
     "execution_count": 14,
     "metadata": {},
     "output_type": "execute_result"
    }
   ],
   "source": [
    "#year_month vs number of transactions\n",
    "df_tx_periods = df.groupby(df['tx_month'])[['trans_num','cc_num']].nunique().reset_index()\n",
    "df_tx_periods.columns = ['year_month','num_of_transactions','customers']\n",
    "df_tx_periods"
   ]
  },
  {
   "cell_type": "code",
   "execution_count": 15,
   "metadata": {},
   "outputs": [
    {
     "data": {
      "image/png": "[encoded data removed]",
      "text/plain": [
       "<Figure size 1440x360 with 1 Axes>"
      ]
     },
     "metadata": {},
     "output_type": "display_data"
    }
   ],
   "source": [
    "x = np.arange(0,len(df_tx_periods),1)\n",
    "\n",
    "fig, ax = plt.subplots(1,1,figsize=(20,5))\n",
    "ax.plot(x,df_tx_periods['num_of_transactions'])\n",
    "ax.set_xticks(x)\n",
    "ax.set_xticklabels(df_tx_periods['year_month'])\n",
    "\n",
    "ax.set_xlabel('Year Month')\n",
    "ax.set_ylabel('Number of Transactions')\n",
    "plt.show()"
   ]
  },
  {
   "cell_type": "code",
   "execution_count": 16,
   "metadata": {},
   "outputs": [
    {
     "data": {
      "text/html": [
       "<div>\n",
       "<style scoped>\n",
       "    .dataframe tbody tr th:only-of-type {\n",
       "        vertical-align: middle;\n",
       "    }\n",
       "\n",
       "    .dataframe tbody tr th {\n",
       "        vertical-align: top;\n",
       "    }\n",
       "\n",
       "    .dataframe thead th {\n",
       "        text-align: right;\n",
       "    }\n",
       "</style>\n",
       "<table border=\"1\" class=\"dataframe\">\n",
       "  <thead>\n",
       "    <tr style=\"text-align: right;\">\n",
       "      <th></th>\n",
       "      <th>year_month</th>\n",
       "      <th>num_of_fraud_transactions</th>\n",
       "      <th>fraud_customers</th>\n",
       "    </tr>\n",
       "  </thead>\n",
       "  <tbody>\n",
       "    <tr>\n",
       "      <th>0</th>\n",
       "      <td>2019-01</td>\n",
       "      <td>506</td>\n",
       "      <td>50</td>\n",
       "    </tr>\n",
       "    <tr>\n",
       "      <th>1</th>\n",
       "      <td>2019-02</td>\n",
       "      <td>517</td>\n",
       "      <td>53</td>\n",
       "    </tr>\n",
       "    <tr>\n",
       "      <th>2</th>\n",
       "      <td>2019-03</td>\n",
       "      <td>494</td>\n",
       "      <td>49</td>\n",
       "    </tr>\n",
       "    <tr>\n",
       "      <th>3</th>\n",
       "      <td>2019-04</td>\n",
       "      <td>376</td>\n",
       "      <td>41</td>\n",
       "    </tr>\n",
       "    <tr>\n",
       "      <th>4</th>\n",
       "      <td>2019-05</td>\n",
       "      <td>408</td>\n",
       "      <td>42</td>\n",
       "    </tr>\n",
       "    <tr>\n",
       "      <th>5</th>\n",
       "      <td>2019-06</td>\n",
       "      <td>354</td>\n",
       "      <td>35</td>\n",
       "    </tr>\n",
       "    <tr>\n",
       "      <th>6</th>\n",
       "      <td>2019-07</td>\n",
       "      <td>331</td>\n",
       "      <td>36</td>\n",
       "    </tr>\n",
       "    <tr>\n",
       "      <th>7</th>\n",
       "      <td>2019-08</td>\n",
       "      <td>382</td>\n",
       "      <td>39</td>\n",
       "    </tr>\n",
       "    <tr>\n",
       "      <th>8</th>\n",
       "      <td>2019-09</td>\n",
       "      <td>418</td>\n",
       "      <td>44</td>\n",
       "    </tr>\n",
       "    <tr>\n",
       "      <th>9</th>\n",
       "      <td>2019-10</td>\n",
       "      <td>454</td>\n",
       "      <td>50</td>\n",
       "    </tr>\n",
       "    <tr>\n",
       "      <th>10</th>\n",
       "      <td>2019-11</td>\n",
       "      <td>388</td>\n",
       "      <td>41</td>\n",
       "    </tr>\n",
       "    <tr>\n",
       "      <th>11</th>\n",
       "      <td>2019-12</td>\n",
       "      <td>592</td>\n",
       "      <td>62</td>\n",
       "    </tr>\n",
       "    <tr>\n",
       "      <th>12</th>\n",
       "      <td>2020-01</td>\n",
       "      <td>343</td>\n",
       "      <td>40</td>\n",
       "    </tr>\n",
       "    <tr>\n",
       "      <th>13</th>\n",
       "      <td>2020-02</td>\n",
       "      <td>336</td>\n",
       "      <td>35</td>\n",
       "    </tr>\n",
       "    <tr>\n",
       "      <th>14</th>\n",
       "      <td>2020-03</td>\n",
       "      <td>444</td>\n",
       "      <td>45</td>\n",
       "    </tr>\n",
       "    <tr>\n",
       "      <th>15</th>\n",
       "      <td>2020-04</td>\n",
       "      <td>302</td>\n",
       "      <td>36</td>\n",
       "    </tr>\n",
       "    <tr>\n",
       "      <th>16</th>\n",
       "      <td>2020-05</td>\n",
       "      <td>527</td>\n",
       "      <td>54</td>\n",
       "    </tr>\n",
       "    <tr>\n",
       "      <th>17</th>\n",
       "      <td>2020-06</td>\n",
       "      <td>334</td>\n",
       "      <td>36</td>\n",
       "    </tr>\n",
       "  </tbody>\n",
       "</table>\n",
       "</div>"
      ],
      "text/plain": [
       "   year_month  num_of_fraud_transactions  fraud_customers\n",
       "0     2019-01                        506               50\n",
       "1     2019-02                        517               53\n",
       "2     2019-03                        494               49\n",
       "3     2019-04                        376               41\n",
       "4     2019-05                        408               42\n",
       "5     2019-06                        354               35\n",
       "6     2019-07                        331               36\n",
       "7     2019-08                        382               39\n",
       "8     2019-09                        418               44\n",
       "9     2019-10                        454               50\n",
       "10    2019-11                        388               41\n",
       "11    2019-12                        592               62\n",
       "12    2020-01                        343               40\n",
       "13    2020-02                        336               35\n",
       "14    2020-03                        444               45\n",
       "15    2020-04                        302               36\n",
       "16    2020-05                        527               54\n",
       "17    2020-06                        334               36"
      ]
     },
     "execution_count": 16,
     "metadata": {},
     "output_type": "execute_result"
    }
   ],
   "source": [
    "df_fraud_transactions = df[df['is_fraud']==1]\n",
    "\n",
    "df_customers = df_fraud_transactions.groupby(df_fraud_transactions['tx_month'])[['trans_num','cc_num']].nunique().reset_index()\n",
    "df_customers.columns = ['year_month','num_of_fraud_transactions','fraud_customers']\n",
    "df_customers"
   ]
  },
  {
   "cell_type": "code",
   "execution_count": 18,
   "metadata": {},
   "outputs": [
    {
     "data": {
      "image/png": "[encoded data removed]",
      "text/plain": [
       "<Figure size 1080x504 with 1 Axes>"
      ]
     },
     "metadata": {},
     "output_type": "display_data"
    }
   ],
   "source": [
    "x = np.arange(0,len(df_customers),1)\n",
    "\n",
    "fig, ax = plt.subplots(1,1,figsize=(15,7))\n",
    "ax.plot(x,df_customers['fraud_customers'])\n",
    "ax.set_xticks(x)\n",
    "ax.set_xticklabels(df_customers['year_month'])\n",
    "\n",
    "ax.set_xlabel('Year Month')\n",
    "ax.set_ylabel('Number of Fraud customers')\n",
    "plt.show()"
   ]
  },
  {
   "cell_type": "code",
   "execution_count": 21,
   "metadata": {},
   "outputs": [
    {
     "data": {
      "image/png": "[encoded data removed]",
      "text/plain": [
       "<Figure size 1296x504 with 4 Axes>"
      ]
     },
     "metadata": {},
     "output_type": "display_data"
    }
   ],
   "source": [
    "fig, ax = plt.subplots(figsize=(18,7))\n",
    "\n",
    "plot = [0,0,0,0]\n",
    "\n",
    "plot[0] = sns.countplot(df.tx_hour, hue=df.gender, ax=plt.subplot(211))\n",
    "plot[1] = sns.countplot(df.gender, ax=plt.subplot(234))\n",
    "plot[2] = sns.countplot(df.tx_dayofweek, hue=df.gender, ax=plt.subplot(235))\n",
    "plot[3] = sns.countplot(df.tx_month, hue=df.gender, ax=plt.subplot(236))\n",
    "\n",
    "for i in plot:\n",
    "  i.set_xticklabels(i.get_xticklabels(), rotation=90)\n",
    "plt.show()"
   ]
  },
  {
   "cell_type": "code",
   "execution_count": 26,
   "metadata": {},
   "outputs": [
    {
     "data": {
      "text/html": [
       "<div>\n",
       "<style scoped>\n",
       "    .dataframe tbody tr th:only-of-type {\n",
       "        vertical-align: middle;\n",
       "    }\n",
       "\n",
       "    .dataframe tbody tr th {\n",
       "        vertical-align: top;\n",
       "    }\n",
       "\n",
       "    .dataframe thead th {\n",
       "        text-align: right;\n",
       "    }\n",
       "</style>\n",
       "<table border=\"1\" class=\"dataframe\">\n",
       "  <thead>\n",
       "    <tr style=\"text-align: right;\">\n",
       "      <th></th>\n",
       "      <th>Gender</th>\n",
       "      <th>is_fraud</th>\n",
       "      <th>Transaction Count</th>\n",
       "      <th>gender_count</th>\n",
       "      <th>Transaction percentage</th>\n",
       "    </tr>\n",
       "  </thead>\n",
       "  <tbody>\n",
       "    <tr>\n",
       "      <th>0</th>\n",
       "      <td>F</td>\n",
       "      <td>0</td>\n",
       "      <td>706128</td>\n",
       "      <td>709863</td>\n",
       "      <td>99.473842</td>\n",
       "    </tr>\n",
       "    <tr>\n",
       "      <th>1</th>\n",
       "      <td>F</td>\n",
       "      <td>1</td>\n",
       "      <td>3735</td>\n",
       "      <td>709863</td>\n",
       "      <td>0.526158</td>\n",
       "    </tr>\n",
       "    <tr>\n",
       "      <th>2</th>\n",
       "      <td>M</td>\n",
       "      <td>0</td>\n",
       "      <td>583041</td>\n",
       "      <td>586812</td>\n",
       "      <td>99.357375</td>\n",
       "    </tr>\n",
       "    <tr>\n",
       "      <th>3</th>\n",
       "      <td>M</td>\n",
       "      <td>1</td>\n",
       "      <td>3771</td>\n",
       "      <td>586812</td>\n",
       "      <td>0.642625</td>\n",
       "    </tr>\n",
       "  </tbody>\n",
       "</table>\n",
       "</div>"
      ],
      "text/plain": [
       "  Gender  is_fraud  Transaction Count  gender_count  Transaction percentage\n",
       "0      F         0             706128        709863               99.473842\n",
       "1      F         1               3735        709863                0.526158\n",
       "2      M         0             583041        586812               99.357375\n",
       "3      M         1               3771        586812                0.642625"
      ]
     },
     "execution_count": 26,
     "metadata": {},
     "output_type": "execute_result"
    }
   ],
   "source": [
    "#creating the 'gender' distributed dataframe\n",
    "df_gender = df[['gender','trans_num']].groupby(['gender']).count().reset_index()\n",
    "df_gender.columns = ['Gender', 'gender_count']\n",
    "\n",
    "#creating gender-fraud distribution\n",
    "df_fraud_gender = df[['gender','trans_num', 'is_fraud']].groupby(['gender','is_fraud']).count().reset_index()\n",
    "df_fraud_gender.columns = ['Gender', 'is_fraud', 'Transaction Count']\n",
    "\n",
    "df_fraud_gender = df_fraud_gender.merge(df_gender[['Gender', 'gender_count']], how='inner', on='Gender')\n",
    "\n",
    "df_fraud_gender['Transaction percentage'] = (df_fraud_gender['Transaction Count']/df_fraud_gender['gender_count'])*100\n",
    "\n",
    "df_fraud_gender"
   ]
  },
  {
   "cell_type": "code",
   "execution_count": 27,
   "metadata": {},
   "outputs": [
    {
     "data": {
      "image/png": "[encoded data removed]",
      "text/plain": [
       "<Figure size 432x288 with 1 Axes>"
      ]
     },
     "metadata": {
      "needs_background": "light"
     },
     "output_type": "display_data"
    }
   ],
   "source": [
    "sns.barplot(data=df_fraud_gender, y='Transaction Count', x='Gender', hue='is_fraud')\n",
    "\n",
    "plt.show()"
   ]
  },
  {
   "cell_type": "code",
   "execution_count": 22,
   "metadata": {},
   "outputs": [
    {
     "data": {
      "text/plain": [
       "0    30-45\n",
       "1    30-45\n",
       "2    46-60\n",
       "3    46-60\n",
       "4    30-45\n",
       "Name: age, dtype: object"
      ]
     },
     "execution_count": 22,
     "metadata": {},
     "output_type": "execute_result"
    }
   ],
   "source": [
    "# Segmenting age feature\n",
    "\n",
    "for i in range(len(df.age)):\n",
    "  if df.age[i] <= 30:\n",
    "    df.age[i] = '< 30'\n",
    "  elif df.age[i] > 30 and df.age[i] <= 45:\n",
    "    df.age[i] = '30-45'\n",
    "  elif df.age[i] > 45 and df.age[i] <= 60:\n",
    "    df.age[i] = '46-60'\n",
    "  elif df.age[i] > 60 and df.age[i] <= 75:\n",
    "    df.age[i] = '61-75'\n",
    "  else:\n",
    "    df.age[i] = '> 75'\n",
    "\n",
    "df.age.head()"
   ]
  },
  {
   "cell_type": "code",
   "execution_count": 23,
   "metadata": {},
   "outputs": [
    {
     "data": {
      "image/png": "[encoded data removed]",
      "text/plain": [
       "<Figure size 432x288 with 1 Axes>"
      ]
     },
     "metadata": {},
     "output_type": "display_data"
    }
   ],
   "source": [
    "# Plotting the age feature in the data\n",
    "plot = sns.countplot(df.age)\n",
    "\n",
    "plt.show()"
   ]
  },
  {
   "cell_type": "code",
   "execution_count": 30,
   "metadata": {},
   "outputs": [
    {
     "data": {
      "text/html": [
       "<div>\n",
       "<style scoped>\n",
       "    .dataframe tbody tr th:only-of-type {\n",
       "        vertical-align: middle;\n",
       "    }\n",
       "\n",
       "    .dataframe tbody tr th {\n",
       "        vertical-align: top;\n",
       "    }\n",
       "\n",
       "    .dataframe thead th {\n",
       "        text-align: right;\n",
       "    }\n",
       "</style>\n",
       "<table border=\"1\" class=\"dataframe\">\n",
       "  <thead>\n",
       "    <tr style=\"text-align: right;\">\n",
       "      <th></th>\n",
       "      <th>age</th>\n",
       "      <th>is_fraud</th>\n",
       "      <th>Transaction count</th>\n",
       "      <th>age_count</th>\n",
       "      <th>Transaction percentage</th>\n",
       "    </tr>\n",
       "  </thead>\n",
       "  <tbody>\n",
       "    <tr>\n",
       "      <th>0</th>\n",
       "      <td>30-45</td>\n",
       "      <td>0</td>\n",
       "      <td>438557</td>\n",
       "      <td>440411</td>\n",
       "      <td>99.579030</td>\n",
       "    </tr>\n",
       "    <tr>\n",
       "      <th>1</th>\n",
       "      <td>30-45</td>\n",
       "      <td>1</td>\n",
       "      <td>1854</td>\n",
       "      <td>440411</td>\n",
       "      <td>0.420970</td>\n",
       "    </tr>\n",
       "    <tr>\n",
       "      <th>2</th>\n",
       "      <td>46-60</td>\n",
       "      <td>0</td>\n",
       "      <td>334647</td>\n",
       "      <td>336814</td>\n",
       "      <td>99.356618</td>\n",
       "    </tr>\n",
       "    <tr>\n",
       "      <th>3</th>\n",
       "      <td>46-60</td>\n",
       "      <td>1</td>\n",
       "      <td>2167</td>\n",
       "      <td>336814</td>\n",
       "      <td>0.643382</td>\n",
       "    </tr>\n",
       "    <tr>\n",
       "      <th>4</th>\n",
       "      <td>61-75</td>\n",
       "      <td>0</td>\n",
       "      <td>170800</td>\n",
       "      <td>171904</td>\n",
       "      <td>99.357781</td>\n",
       "    </tr>\n",
       "    <tr>\n",
       "      <th>5</th>\n",
       "      <td>61-75</td>\n",
       "      <td>1</td>\n",
       "      <td>1104</td>\n",
       "      <td>171904</td>\n",
       "      <td>0.642219</td>\n",
       "    </tr>\n",
       "    <tr>\n",
       "      <th>6</th>\n",
       "      <td>&lt; 30</td>\n",
       "      <td>0</td>\n",
       "      <td>255220</td>\n",
       "      <td>256759</td>\n",
       "      <td>99.400605</td>\n",
       "    </tr>\n",
       "    <tr>\n",
       "      <th>7</th>\n",
       "      <td>&lt; 30</td>\n",
       "      <td>1</td>\n",
       "      <td>1539</td>\n",
       "      <td>256759</td>\n",
       "      <td>0.599395</td>\n",
       "    </tr>\n",
       "    <tr>\n",
       "      <th>8</th>\n",
       "      <td>&gt; 75</td>\n",
       "      <td>0</td>\n",
       "      <td>89945</td>\n",
       "      <td>90787</td>\n",
       "      <td>99.072554</td>\n",
       "    </tr>\n",
       "    <tr>\n",
       "      <th>9</th>\n",
       "      <td>&gt; 75</td>\n",
       "      <td>1</td>\n",
       "      <td>842</td>\n",
       "      <td>90787</td>\n",
       "      <td>0.927446</td>\n",
       "    </tr>\n",
       "  </tbody>\n",
       "</table>\n",
       "</div>"
      ],
      "text/plain": [
       "     age  is_fraud  Transaction count  age_count  Transaction percentage\n",
       "0  30-45         0             438557     440411               99.579030\n",
       "1  30-45         1               1854     440411                0.420970\n",
       "2  46-60         0             334647     336814               99.356618\n",
       "3  46-60         1               2167     336814                0.643382\n",
       "4  61-75         0             170800     171904               99.357781\n",
       "5  61-75         1               1104     171904                0.642219\n",
       "6   < 30         0             255220     256759               99.400605\n",
       "7   < 30         1               1539     256759                0.599395\n",
       "8   > 75         0              89945      90787               99.072554\n",
       "9   > 75         1                842      90787                0.927446"
      ]
     },
     "execution_count": 30,
     "metadata": {},
     "output_type": "execute_result"
    }
   ],
   "source": [
    "df_age = df[['age','trans_num']].groupby(['age']).count().reset_index()\n",
    "df_age.columns = ['age', 'age_count']\n",
    "\n",
    "# Creating age-fraud distribution\n",
    "df_fraud_age = df[['age', 'trans_num', 'is_fraud']].groupby(['age','is_fraud']).count().reset_index()\n",
    "df_fraud_age.columns = ['age', 'is_fraud', 'Transaction count']\n",
    "\n",
    "df_fraud_age = df_fraud_age.merge(df_age[['age', 'age_count']], how='inner', on='age')\n",
    "\n",
    "df_fraud_age['Transaction percentage'] = (df_fraud_age['Transaction count']/df_fraud_age['age_count'])*100\n",
    "\n",
    "df_fraud_age"
   ]
  },
  {
   "cell_type": "code",
   "execution_count": 32,
   "metadata": {},
   "outputs": [
    {
     "name": "stderr",
     "output_type": "stream",
     "text": [
      "/opt/anaconda3/lib/python3.9/site-packages/seaborn/_decorators.py:36: FutureWarning: Pass the following variable as a keyword arg: x. From version 0.12, the only valid positional argument will be `data`, and passing other arguments without an explicit keyword will result in an error or misinterpretation.\n",
      "  warnings.warn(\n"
     ]
    },
    {
     "data": {
      "image/png": "[encoded data removed]",
      "text/plain": [
       "<Figure size 720x576 with 1 Axes>"
      ]
     },
     "metadata": {
      "needs_background": "light"
     },
     "output_type": "display_data"
    }
   ],
   "source": [
    "# State counts\n",
    "\n",
    "fig, ax = plt.subplots(figsize=(10,8))\n",
    "plot = sns.countplot(df.state)\n",
    "plot.set_xticklabels(plot.get_xticklabels(), rotation=90)\n",
    "plt.show()"
   ]
  },
  {
   "cell_type": "code",
   "execution_count": 24,
   "metadata": {},
   "outputs": [
    {
     "name": "stdout",
     "output_type": "stream",
     "text": [
      "Number of cities:  894\n",
      "Number of zip codes:  970\n"
     ]
    }
   ],
   "source": [
    "print('Number of cities: ',df.city.nunique())\n",
    "print('Number of zip codes: ',df.zip.nunique())"
   ]
  },
  {
   "cell_type": "code",
   "execution_count": 25,
   "metadata": {},
   "outputs": [
    {
     "name": "stdout",
     "output_type": "stream",
     "text": [
      "high frequencies cities:  ['Birmingham', 'San Antonio', 'Utica', 'Phoenix', 'Meridian', 'Thomas', 'Conway', 'Cleveland', 'Warren', 'Houston', 'Burbank', 'Naples', 'Arcadia', 'Indianapolis', 'Brandon', 'Fulton', 'Lahoma', 'Allentown', 'Lakeland', 'Dallas']\n",
      "high frequencies zip codes:  [73754, 34112, 48088, 82514, 49628, 15484, 85173, 29819, 38761, 5461, 44233, 4287, 72042, 16858, 28405, 26292, 12419, 80120, 6024, 98238]\n"
     ]
    },
    {
     "data": {
      "image/png": "[encoded data removed]",
      "text/plain": [
       "<Figure size 720x576 with 2 Axes>"
      ]
     },
     "metadata": {},
     "output_type": "display_data"
    }
   ],
   "source": [
    "high_trans_cities = df.city.value_counts().head(20).index.tolist()\n",
    "high_trans_zips = df.zip.value_counts().head(20).index.tolist()\n",
    "print('high frequencies cities: ', high_trans_cities)\n",
    "print('high frequencies zip codes: ', high_trans_zips)\n",
    "\n",
    "fig, ax = plt.subplots(figsize=(10,8))\n",
    "#plotting the cities transaction frequencies again\n",
    "plots = []\n",
    "plots.append(sns.countplot(df[df.city.isin(high_trans_cities)].city, ax=plt.subplot(121)))\n",
    "plots.append(sns.countplot(df[df.zip.isin(high_trans_zips)].zip, ax=plt.subplot(122)))\n",
    "\n",
    "for i in plots:\n",
    "  i.set_xticklabels(i.get_xticklabels(), rotation=90)\n",
    "plt.show()"
   ]
  },
  {
   "cell_type": "code",
   "execution_count": 26,
   "metadata": {},
   "outputs": [
    {
     "name": "stdout",
     "output_type": "stream",
     "text": [
      "['Film/video editor', 'Exhibition designer', 'Naval architect', 'Surveyor, land/geomatics', 'Materials engineer', 'Designer, ceramics/pottery', 'Systems developer', 'IT trainer', 'Financial adviser', 'Environmental consultant', 'Chartered public finance accountant', 'Scientist, audiological', 'Chief Executive Officer', 'Copywriter, advertising', 'Comptroller', 'Sub', 'Podiatrist', 'Agricultural consultant', 'Paramedic', 'Magazine features editor']\n"
     ]
    }
   ],
   "source": [
    "# Top 20 jobs with high transaction frequencies\n",
    "high_trans_jobs = df.job.value_counts().head(20).index.tolist()\n",
    "print(high_trans_jobs)"
   ]
  },
  {
   "cell_type": "code",
   "execution_count": 27,
   "metadata": {},
   "outputs": [
    {
     "data": {
      "image/png": "[encoded data removed]",
      "text/plain": [
       "<Figure size 432x288 with 1 Axes>"
      ]
     },
     "metadata": {},
     "output_type": "display_data"
    }
   ],
   "source": [
    "plot = sns.countplot(df[df.job.isin(high_trans_jobs)].job)\n",
    "plot.set_xticklabels(plot.get_xticklabels(), rotation=90)\n",
    "plt.show()"
   ]
  },
  {
   "cell_type": "code",
   "execution_count": 30,
   "metadata": {},
   "outputs": [
    {
     "data": {
      "text/html": [
       "<div>\n",
       "<style scoped>\n",
       "    .dataframe tbody tr th:only-of-type {\n",
       "        vertical-align: middle;\n",
       "    }\n",
       "\n",
       "    .dataframe tbody tr th {\n",
       "        vertical-align: top;\n",
       "    }\n",
       "\n",
       "    .dataframe thead th {\n",
       "        text-align: right;\n",
       "    }\n",
       "</style>\n",
       "<table border=\"1\" class=\"dataframe\">\n",
       "  <thead>\n",
       "    <tr style=\"text-align: right;\">\n",
       "      <th></th>\n",
       "      <th>job</th>\n",
       "      <th>is_fraud</th>\n",
       "      <th>Transaction count</th>\n",
       "      <th>job_count</th>\n",
       "      <th>Transaction percentage</th>\n",
       "    </tr>\n",
       "  </thead>\n",
       "  <tbody>\n",
       "    <tr>\n",
       "      <th>64</th>\n",
       "      <td>Armed forces technical officer</td>\n",
       "      <td>1</td>\n",
       "      <td>8</td>\n",
       "      <td>8</td>\n",
       "      <td>100.000000</td>\n",
       "    </tr>\n",
       "    <tr>\n",
       "      <th>318</th>\n",
       "      <td>Engineer, site</td>\n",
       "      <td>1</td>\n",
       "      <td>12</td>\n",
       "      <td>12</td>\n",
       "      <td>100.000000</td>\n",
       "    </tr>\n",
       "    <tr>\n",
       "      <th>453</th>\n",
       "      <td>Information officer</td>\n",
       "      <td>1</td>\n",
       "      <td>8</td>\n",
       "      <td>8</td>\n",
       "      <td>100.000000</td>\n",
       "    </tr>\n",
       "    <tr>\n",
       "      <th>493</th>\n",
       "      <td>Legal secretary</td>\n",
       "      <td>1</td>\n",
       "      <td>12</td>\n",
       "      <td>12</td>\n",
       "      <td>100.000000</td>\n",
       "    </tr>\n",
       "    <tr>\n",
       "      <th>450</th>\n",
       "      <td>Industrial buyer</td>\n",
       "      <td>1</td>\n",
       "      <td>10</td>\n",
       "      <td>10</td>\n",
       "      <td>100.000000</td>\n",
       "    </tr>\n",
       "    <tr>\n",
       "      <th>111</th>\n",
       "      <td>Careers adviser</td>\n",
       "      <td>1</td>\n",
       "      <td>15</td>\n",
       "      <td>15</td>\n",
       "      <td>100.000000</td>\n",
       "    </tr>\n",
       "    <tr>\n",
       "      <th>421</th>\n",
       "      <td>Homeopath</td>\n",
       "      <td>1</td>\n",
       "      <td>11</td>\n",
       "      <td>11</td>\n",
       "      <td>100.000000</td>\n",
       "    </tr>\n",
       "    <tr>\n",
       "      <th>94</th>\n",
       "      <td>Broadcast journalist</td>\n",
       "      <td>1</td>\n",
       "      <td>9</td>\n",
       "      <td>9</td>\n",
       "      <td>100.000000</td>\n",
       "    </tr>\n",
       "    <tr>\n",
       "      <th>619</th>\n",
       "      <td>Personnel officer</td>\n",
       "      <td>1</td>\n",
       "      <td>12</td>\n",
       "      <td>12</td>\n",
       "      <td>100.000000</td>\n",
       "    </tr>\n",
       "    <tr>\n",
       "      <th>374</th>\n",
       "      <td>Forest/woodland manager</td>\n",
       "      <td>1</td>\n",
       "      <td>9</td>\n",
       "      <td>9</td>\n",
       "      <td>100.000000</td>\n",
       "    </tr>\n",
       "    <tr>\n",
       "      <th>758</th>\n",
       "      <td>Sales promotion account executive</td>\n",
       "      <td>1</td>\n",
       "      <td>14</td>\n",
       "      <td>14</td>\n",
       "      <td>100.000000</td>\n",
       "    </tr>\n",
       "    <tr>\n",
       "      <th>39</th>\n",
       "      <td>Air traffic controller</td>\n",
       "      <td>1</td>\n",
       "      <td>17</td>\n",
       "      <td>17</td>\n",
       "      <td>100.000000</td>\n",
       "    </tr>\n",
       "    <tr>\n",
       "      <th>198</th>\n",
       "      <td>Contracting civil engineer</td>\n",
       "      <td>1</td>\n",
       "      <td>7</td>\n",
       "      <td>7</td>\n",
       "      <td>100.000000</td>\n",
       "    </tr>\n",
       "    <tr>\n",
       "      <th>787</th>\n",
       "      <td>Ship broker</td>\n",
       "      <td>1</td>\n",
       "      <td>7</td>\n",
       "      <td>7</td>\n",
       "      <td>100.000000</td>\n",
       "    </tr>\n",
       "    <tr>\n",
       "      <th>795</th>\n",
       "      <td>Solicitor</td>\n",
       "      <td>1</td>\n",
       "      <td>11</td>\n",
       "      <td>11</td>\n",
       "      <td>100.000000</td>\n",
       "    </tr>\n",
       "    <tr>\n",
       "      <th>2</th>\n",
       "      <td>Accountant, chartered</td>\n",
       "      <td>1</td>\n",
       "      <td>11</td>\n",
       "      <td>11</td>\n",
       "      <td>100.000000</td>\n",
       "    </tr>\n",
       "    <tr>\n",
       "      <th>218</th>\n",
       "      <td>Dancer</td>\n",
       "      <td>1</td>\n",
       "      <td>19</td>\n",
       "      <td>19</td>\n",
       "      <td>100.000000</td>\n",
       "    </tr>\n",
       "    <tr>\n",
       "      <th>906</th>\n",
       "      <td>Warehouse manager</td>\n",
       "      <td>1</td>\n",
       "      <td>7</td>\n",
       "      <td>7</td>\n",
       "      <td>100.000000</td>\n",
       "    </tr>\n",
       "    <tr>\n",
       "      <th>898</th>\n",
       "      <td>Veterinary surgeon</td>\n",
       "      <td>1</td>\n",
       "      <td>8</td>\n",
       "      <td>8</td>\n",
       "      <td>100.000000</td>\n",
       "    </tr>\n",
       "    <tr>\n",
       "      <th>484</th>\n",
       "      <td>Lawyer</td>\n",
       "      <td>1</td>\n",
       "      <td>28</td>\n",
       "      <td>540</td>\n",
       "      <td>5.185185</td>\n",
       "    </tr>\n",
       "    <tr>\n",
       "      <th>830</th>\n",
       "      <td>TEFL teacher</td>\n",
       "      <td>1</td>\n",
       "      <td>22</td>\n",
       "      <td>533</td>\n",
       "      <td>4.127580</td>\n",
       "    </tr>\n",
       "    <tr>\n",
       "      <th>184</th>\n",
       "      <td>Community development worker</td>\n",
       "      <td>1</td>\n",
       "      <td>22</td>\n",
       "      <td>536</td>\n",
       "      <td>4.104478</td>\n",
       "    </tr>\n",
       "    <tr>\n",
       "      <th>165</th>\n",
       "      <td>Clinical cytogeneticist</td>\n",
       "      <td>1</td>\n",
       "      <td>18</td>\n",
       "      <td>508</td>\n",
       "      <td>3.543307</td>\n",
       "    </tr>\n",
       "    <tr>\n",
       "      <th>917</th>\n",
       "      <td>Writer</td>\n",
       "      <td>1</td>\n",
       "      <td>15</td>\n",
       "      <td>504</td>\n",
       "      <td>2.976190</td>\n",
       "    </tr>\n",
       "    <tr>\n",
       "      <th>391</th>\n",
       "      <td>Geneticist, molecular</td>\n",
       "      <td>1</td>\n",
       "      <td>16</td>\n",
       "      <td>545</td>\n",
       "      <td>2.935780</td>\n",
       "    </tr>\n",
       "  </tbody>\n",
       "</table>\n",
       "</div>"
      ],
      "text/plain": [
       "                                   job  is_fraud  Transaction count  \\\n",
       "64      Armed forces technical officer         1                  8   \n",
       "318                     Engineer, site         1                 12   \n",
       "453                Information officer         1                  8   \n",
       "493                    Legal secretary         1                 12   \n",
       "450                   Industrial buyer         1                 10   \n",
       "111                    Careers adviser         1                 15   \n",
       "421                          Homeopath         1                 11   \n",
       "94                Broadcast journalist         1                  9   \n",
       "619                  Personnel officer         1                 12   \n",
       "374            Forest/woodland manager         1                  9   \n",
       "758  Sales promotion account executive         1                 14   \n",
       "39              Air traffic controller         1                 17   \n",
       "198         Contracting civil engineer         1                  7   \n",
       "787                        Ship broker         1                  7   \n",
       "795                          Solicitor         1                 11   \n",
       "2                Accountant, chartered         1                 11   \n",
       "218                             Dancer         1                 19   \n",
       "906                  Warehouse manager         1                  7   \n",
       "898                 Veterinary surgeon         1                  8   \n",
       "484                             Lawyer         1                 28   \n",
       "830                       TEFL teacher         1                 22   \n",
       "184       Community development worker         1                 22   \n",
       "165            Clinical cytogeneticist         1                 18   \n",
       "917                             Writer         1                 15   \n",
       "391              Geneticist, molecular         1                 16   \n",
       "\n",
       "     job_count  Transaction percentage  \n",
       "64           8              100.000000  \n",
       "318         12              100.000000  \n",
       "453          8              100.000000  \n",
       "493         12              100.000000  \n",
       "450         10              100.000000  \n",
       "111         15              100.000000  \n",
       "421         11              100.000000  \n",
       "94           9              100.000000  \n",
       "619         12              100.000000  \n",
       "374          9              100.000000  \n",
       "758         14              100.000000  \n",
       "39          17              100.000000  \n",
       "198          7              100.000000  \n",
       "787          7              100.000000  \n",
       "795         11              100.000000  \n",
       "2           11              100.000000  \n",
       "218         19              100.000000  \n",
       "906          7              100.000000  \n",
       "898          8              100.000000  \n",
       "484        540                5.185185  \n",
       "830        533                4.127580  \n",
       "184        536                4.104478  \n",
       "165        508                3.543307  \n",
       "917        504                2.976190  \n",
       "391        545                2.935780  "
      ]
     },
     "execution_count": 30,
     "metadata": {},
     "output_type": "execute_result"
    }
   ],
   "source": [
    "# Job - Fradulent activity plot\n",
    "df_job = df[['job','trans_num']].groupby(['job']).count().reset_index()\n",
    "df_job.columns = ['job', 'job_count']\n",
    "\n",
    "df_fraud_job = df[['job', 'trans_num', 'is_fraud']].groupby(['job','is_fraud']).count().reset_index()\n",
    "df_fraud_job.columns = ['job', 'is_fraud', 'Transaction count']\n",
    "\n",
    "df_fraud_job = df_fraud_job.merge(df_job[['job', 'job_count']], how='inner', on='job')\n",
    "\n",
    "df_fraud_job['Transaction percentage'] = (df_fraud_job['Transaction count']/df_fraud_job['job_count'])*100\n",
    "\n",
    "# Top 25 jobs with high fraudulent transaction volumes\n",
    "df_fraud_job[df_fraud_job['is_fraud'] == 1].sort_values(by = ['Transaction percentage'], ascending=False).head(25)"
   ]
  },
  {
   "cell_type": "code",
   "execution_count": 31,
   "metadata": {},
   "outputs": [
    {
     "data": {
      "text/plain": [
       "['fraud_Kilback LLC',\n",
       " 'fraud_Cormier LLC',\n",
       " 'fraud_Schumm PLC',\n",
       " 'fraud_Kuhn LLC',\n",
       " 'fraud_Boyer PLC',\n",
       " 'fraud_Dickinson Ltd',\n",
       " 'fraud_Cummerata-Jones',\n",
       " 'fraud_Kutch LLC',\n",
       " 'fraud_Olson, Becker and Koch',\n",
       " 'fraud_Stroman, Hudson and Erdman',\n",
       " 'fraud_Rodriguez Group',\n",
       " 'fraud_Erdman-Kertzmann',\n",
       " 'fraud_Jenkins, Hauck and Friesen',\n",
       " 'fraud_Kling Inc',\n",
       " 'fraud_Connelly, Reichert and Fritsch',\n",
       " 'fraud_Friesen-Stamm',\n",
       " 'fraud_Prohaska-Murray',\n",
       " 'fraud_Huels-Hahn',\n",
       " 'fraud_Berge LLC',\n",
       " 'fraud_Bartoletti-Wunsch']"
      ]
     },
     "execution_count": 31,
     "metadata": {},
     "output_type": "execute_result"
    }
   ],
   "source": [
    "# Merchants\n",
    "\n",
    "high_trans_merchants = df.merchant.value_counts().head(20).index.tolist()\n",
    "high_trans_merchants"
   ]
  },
  {
   "cell_type": "code",
   "execution_count": 32,
   "metadata": {},
   "outputs": [
    {
     "data": {
      "image/png": "[encoded data removed]",
      "text/plain": [
       "<Figure size 432x288 with 1 Axes>"
      ]
     },
     "metadata": {},
     "output_type": "display_data"
    }
   ],
   "source": [
    "# Plotting the top merchants with high transaction volumes\n",
    "plot = sns.countplot(df[df.merchant.isin(high_trans_merchants)].merchant)\n",
    "plot.set_xticklabels(plot.get_xticklabels(), rotation=90)\n",
    "\n",
    "plt.show()"
   ]
  },
  {
   "cell_type": "code",
   "execution_count": 38,
   "metadata": {},
   "outputs": [
    {
     "name": "stdout",
     "output_type": "stream",
     "text": [
      "<class 'pandas.core.frame.DataFrame'>\n",
      "RangeIndex: 1296675 entries, 0 to 1296674\n",
      "Data columns (total 22 columns):\n",
      " #   Column        Non-Null Count    Dtype    \n",
      "---  ------        --------------    -----    \n",
      " 0   cc_num        1296675 non-null  int64    \n",
      " 1   merchant      1296675 non-null  object   \n",
      " 2   category      1296675 non-null  object   \n",
      " 3   amt           1296675 non-null  float64  \n",
      " 4   gender        1296675 non-null  object   \n",
      " 5   street        1296675 non-null  object   \n",
      " 6   city          1296675 non-null  object   \n",
      " 7   state         1296675 non-null  object   \n",
      " 8   zip           1296675 non-null  int64    \n",
      " 9   lat           1296675 non-null  float64  \n",
      " 10  long          1296675 non-null  float64  \n",
      " 11  city_pop      1296675 non-null  int64    \n",
      " 12  job           1296675 non-null  object   \n",
      " 13  trans_num     1296675 non-null  object   \n",
      " 14  unix_time     1296675 non-null  int64    \n",
      " 15  merch_lat     1296675 non-null  float64  \n",
      " 16  merch_long    1296675 non-null  float64  \n",
      " 17  is_fraud      1296675 non-null  int64    \n",
      " 18  tx_hour       1296675 non-null  int64    \n",
      " 19  tx_dayofweek  1296675 non-null  object   \n",
      " 20  tx_month      1296675 non-null  period[M]\n",
      " 21  age           1296675 non-null  object   \n",
      "dtypes: float64(5), int64(6), object(10), period[M](1)\n",
      "memory usage: 217.6+ MB\n"
     ]
    }
   ],
   "source": [
    "df.info()\n",
    "\n",
    "# We have so many object columns, so we have to convert them into numerical columns or we should drop them."
   ]
  },
  {
   "cell_type": "code",
   "execution_count": 42,
   "metadata": {},
   "outputs": [],
   "source": [
    "target_encoding_list = [\"gender\", \"age\",  \"tx_dayofweek\"]\n",
    "le_encoding_list = [\"street\", \"state\", \"zip\", \"city\", \"job\", \"category\"]\n",
    "unneeded_columns = [\"trans_num\", \"merchant\", \"cc_num\"]\n",
    "\n",
    "for i in target_encoding_list:\n",
    "    df[i] = df.groupby([i]).is_fraud.transform(\"mean\")\n",
    "from sklearn.preprocessing import LabelEncoder\n",
    "le = LabelEncoder()\n",
    "\n",
    "for i in le_encoding_list:\n",
    "    df[i] = le.fit_transform(df[i])\n",
    "    \n",
    "customer_numbers = df.cc_num # in case there is any need for that happens, i store it in a variable\n",
    "\n",
    "df = df.drop(unneeded_columns,1)"
   ]
  },
  {
   "cell_type": "code",
   "execution_count": 50,
   "metadata": {},
   "outputs": [],
   "source": [
    "df.tx_month = df.tx_month.astype(int)"
   ]
  },
  {
   "cell_type": "code",
   "execution_count": 44,
   "metadata": {},
   "outputs": [
    {
     "data": {
      "image/png": "[encoded data removed]",
      "text/plain": [
       "<Figure size 1080x1080 with 2 Axes>"
      ]
     },
     "metadata": {},
     "output_type": "display_data"
    }
   ],
   "source": [
    "#let us now check the correlations between the columns\n",
    "df_random_under_corr = df.corr()\n",
    "#plotting the correlation heatplot\n",
    "plt.figure(figsize=(15,15))\n",
    "sns.heatmap(df_random_under_corr)\n",
    "plt.show()"
   ]
  },
  {
   "cell_type": "markdown",
   "metadata": {},
   "source": [
    "### Building Model"
   ]
  },
  {
   "cell_type": "code",
   "execution_count": 51,
   "metadata": {},
   "outputs": [],
   "source": [
    "# target variable and train variables\n",
    "\n",
    "X = df.drop(['is_fraud'],axis=1)\n",
    "y = df.is_fraud"
   ]
  },
  {
   "cell_type": "code",
   "execution_count": 52,
   "metadata": {},
   "outputs": [],
   "source": [
    "# Scaling\n",
    "from sklearn.preprocessing import StandardScaler\n",
    "scaler = StandardScaler()\n",
    "X = scaler.fit_transform(X)"
   ]
  },
  {
   "cell_type": "code",
   "execution_count": 54,
   "metadata": {},
   "outputs": [],
   "source": [
    "X_train, X_test, y_train, y_test = train_test_split(X, y, test_size = .2, random_state = 42)"
   ]
  },
  {
   "cell_type": "markdown",
   "metadata": {},
   "source": [
    "### Logistic Regression"
   ]
  },
  {
   "cell_type": "code",
   "execution_count": 55,
   "metadata": {},
   "outputs": [
    {
     "name": "stdout",
     "output_type": "stream",
     "text": [
      "y_train_pred:  [0 0 0 ... 0 0 0]\n",
      "y_test_pred:  [0 0 0 ... 0 0 0]\n"
     ]
    }
   ],
   "source": [
    "lr = LogisticRegression(random_state=42)\n",
    "model_lr = lr.fit(X_train, y_train)\n",
    "y_train_pred = model_lr.predict(X_train)\n",
    "y_test_pred = model_lr.predict(X_test)"
   ]
  },
  {
   "cell_type": "code",
   "execution_count": 56,
   "metadata": {},
   "outputs": [
    {
     "data": {
      "text/html": [
       "<div>\n",
       "<style scoped>\n",
       "    .dataframe tbody tr th:only-of-type {\n",
       "        vertical-align: middle;\n",
       "    }\n",
       "\n",
       "    .dataframe tbody tr th {\n",
       "        vertical-align: top;\n",
       "    }\n",
       "\n",
       "    .dataframe thead th {\n",
       "        text-align: right;\n",
       "    }\n",
       "</style>\n",
       "<table border=\"1\" class=\"dataframe\">\n",
       "  <thead>\n",
       "    <tr style=\"text-align: right;\">\n",
       "      <th></th>\n",
       "      <th>Model Name</th>\n",
       "      <th>Training Score</th>\n",
       "      <th>Testing Score</th>\n",
       "      <th>Accuracy</th>\n",
       "      <th>F1 Score</th>\n",
       "      <th>Precision</th>\n",
       "      <th>Recall</th>\n",
       "    </tr>\n",
       "  </thead>\n",
       "  <tbody>\n",
       "    <tr>\n",
       "      <th>0</th>\n",
       "      <td>Logistic Regression</td>\n",
       "      <td>0.993673</td>\n",
       "      <td>0.993603</td>\n",
       "      <td>0.993603</td>\n",
       "      <td>0.990949</td>\n",
       "      <td>0.000000</td>\n",
       "      <td>0.000000</td>\n",
       "    </tr>\n",
       "  </tbody>\n",
       "</table>\n",
       "</div>"
      ],
      "text/plain": [
       "            Model Name  Training Score  Testing Score  Accuracy  F1 Score  \\\n",
       "0  Logistic Regression        0.993673       0.993603  0.993603  0.990949   \n",
       "\n",
       "   Precision   Recall  \n",
       "0   0.000000 0.000000  "
      ]
     },
     "execution_count": 56,
     "metadata": {},
     "output_type": "execute_result"
    }
   ],
   "source": [
    "model_name = 'Logistic Regression'\n",
    "\n",
    "train_score = model_lr.score(X_train,y_train)\n",
    "test_score = model_lr.score(X_test,y_test)\n",
    "\n",
    "acc_score = accuracy_score(y_test,y_test_pred)\n",
    "f_score = f1_score(y_test, y_test_pred, average='weighted')\n",
    "precision = precision_score(y_test, y_test_pred)\n",
    "recall = metrics.recall_score(y_test,y_test_pred)\n",
    "# Creating a dataframe\n",
    "\n",
    "model_eval_data = [[model_name, train_score, test_score, acc_score, f_score, precision, recall]]\n",
    "evaluate_df = pd.DataFrame(model_eval_data, columns=['Model Name', 'Training Score', 'Testing Score', 'Accuracy',\n",
    "                                          'F1 Score', 'Precision', 'Recall'])\n",
    "evaluate_df"
   ]
  },
  {
   "cell_type": "markdown",
   "metadata": {},
   "source": [
    "### LightGBM"
   ]
  },
  {
   "cell_type": "code",
   "execution_count": 57,
   "metadata": {},
   "outputs": [
    {
     "name": "stdout",
     "output_type": "stream",
     "text": [
      "[LightGBM] [Warning] Unknown parameter: is_unbalanced\n"
     ]
    }
   ],
   "source": [
    "import lightgbm as lgbm\n",
    "\n",
    "model_lgbm = lgbm.LGBMClassifier(objective = \"binary\", is_unbalanced = True)\n",
    "model_lgbm.fit(X_train, y_train)\n",
    "\n",
    "y_train_pred = model_lgbm.predict(X_train)\n",
    "y_test_pred = model_lgbm.predict(X_test)"
   ]
  },
  {
   "cell_type": "code",
   "execution_count": 59,
   "metadata": {},
   "outputs": [
    {
     "data": {
      "text/html": [
       "<div>\n",
       "<style scoped>\n",
       "    .dataframe tbody tr th:only-of-type {\n",
       "        vertical-align: middle;\n",
       "    }\n",
       "\n",
       "    .dataframe tbody tr th {\n",
       "        vertical-align: top;\n",
       "    }\n",
       "\n",
       "    .dataframe thead th {\n",
       "        text-align: right;\n",
       "    }\n",
       "</style>\n",
       "<table border=\"1\" class=\"dataframe\">\n",
       "  <thead>\n",
       "    <tr style=\"text-align: right;\">\n",
       "      <th></th>\n",
       "      <th>Model Name</th>\n",
       "      <th>Training Score</th>\n",
       "      <th>Testing Score</th>\n",
       "      <th>Accuracy</th>\n",
       "      <th>F1 Score</th>\n",
       "      <th>Precision</th>\n",
       "      <th>Recall</th>\n",
       "      <th>Roc-Auc</th>\n",
       "    </tr>\n",
       "  </thead>\n",
       "  <tbody>\n",
       "    <tr>\n",
       "      <th>0</th>\n",
       "      <td>LightGBM</td>\n",
       "      <td>0.993673</td>\n",
       "      <td>0.993603</td>\n",
       "      <td>0.997127</td>\n",
       "      <td>0.997093</td>\n",
       "      <td>0.767426</td>\n",
       "      <td>0.731579</td>\n",
       "      <td>0.865136</td>\n",
       "    </tr>\n",
       "  </tbody>\n",
       "</table>\n",
       "</div>"
      ],
      "text/plain": [
       "  Model Name  Training Score  Testing Score  Accuracy  F1 Score  Precision  \\\n",
       "0   LightGBM        0.993673       0.993603  0.997127  0.997093   0.767426   \n",
       "\n",
       "    Recall  Roc-Auc  \n",
       "0 0.731579 0.865136  "
      ]
     },
     "execution_count": 59,
     "metadata": {},
     "output_type": "execute_result"
    }
   ],
   "source": [
    "model_name = 'LightGBM'\n",
    "\n",
    "train_score = model_lr.score(X_train,y_train)\n",
    "test_score = model_lr.score(X_test,y_test)\n",
    "\n",
    "acc_score = accuracy_score(y_test,y_test_pred)\n",
    "f_score = f1_score(y_test, y_test_pred, average='weighted')\n",
    "precision = precision_score(y_test, y_test_pred)\n",
    "recall = metrics.recall_score(y_test,y_test_pred)\n",
    "roc_auc = metrics.roc_auc_score(y_test,y_test_pred)\n",
    "# Creating a dataframe\n",
    "\n",
    "model_eval_data = [[model_name, train_score, test_score, acc_score, f_score, precision, recall, roc_auc]]\n",
    "evaluate_df = pd.DataFrame(model_eval_data, columns=['Model Name', 'Training Score', 'Testing Score', 'Accuracy',\n",
    "                                          'F1 Score', 'Precision', 'Recall', \"Roc-Auc\"])\n",
    "evaluate_df"
   ]
  },
  {
   "cell_type": "markdown",
   "metadata": {},
   "source": [
    "### XGBoost"
   ]
  },
  {
   "cell_type": "code",
   "execution_count": 61,
   "metadata": {},
   "outputs": [
    {
     "name": "stdout",
     "output_type": "stream",
     "text": [
      "[20:33:06] WARNING: ../src/learner.cc:1115: Starting in XGBoost 1.3.0, the default evaluation metric used with the objective 'binary:logistic' was changed from 'error' to 'logloss'. Explicitly set eval_metric if you'd like to restore the old behavior.\n"
     ]
    }
   ],
   "source": [
    "import xgboost as xgb\n",
    "\n",
    "model_xgb = xgb.XGBClassifier()\n",
    "model_xgb.fit(X_train, y_train)\n",
    "\n",
    "y_train_pred = model_xgb.predict(X_train)\n",
    "y_test_pred = model_xgb.predict(X_test)"
   ]
  },
  {
   "cell_type": "code",
   "execution_count": 62,
   "metadata": {},
   "outputs": [
    {
     "data": {
      "text/html": [
       "<div>\n",
       "<style scoped>\n",
       "    .dataframe tbody tr th:only-of-type {\n",
       "        vertical-align: middle;\n",
       "    }\n",
       "\n",
       "    .dataframe tbody tr th {\n",
       "        vertical-align: top;\n",
       "    }\n",
       "\n",
       "    .dataframe thead th {\n",
       "        text-align: right;\n",
       "    }\n",
       "</style>\n",
       "<table border=\"1\" class=\"dataframe\">\n",
       "  <thead>\n",
       "    <tr style=\"text-align: right;\">\n",
       "      <th></th>\n",
       "      <th>Model Name</th>\n",
       "      <th>Training Score</th>\n",
       "      <th>Testing Score</th>\n",
       "      <th>Accuracy</th>\n",
       "      <th>F1 Score</th>\n",
       "      <th>Precision</th>\n",
       "      <th>Recall</th>\n",
       "      <th>Roc-Auc</th>\n",
       "    </tr>\n",
       "  </thead>\n",
       "  <tbody>\n",
       "    <tr>\n",
       "      <th>0</th>\n",
       "      <td>XGBoost</td>\n",
       "      <td>0.999373</td>\n",
       "      <td>0.998785</td>\n",
       "      <td>0.998785</td>\n",
       "      <td>0.998738</td>\n",
       "      <td>0.963818</td>\n",
       "      <td>0.823684</td>\n",
       "      <td>0.911751</td>\n",
       "    </tr>\n",
       "  </tbody>\n",
       "</table>\n",
       "</div>"
      ],
      "text/plain": [
       "  Model Name  Training Score  Testing Score  Accuracy  F1 Score  Precision  \\\n",
       "0    XGBoost        0.999373       0.998785  0.998785  0.998738   0.963818   \n",
       "\n",
       "    Recall  Roc-Auc  \n",
       "0 0.823684 0.911751  "
      ]
     },
     "execution_count": 62,
     "metadata": {},
     "output_type": "execute_result"
    }
   ],
   "source": [
    "model_name = 'XGBoost'\n",
    "\n",
    "train_score = model_xgb.score(X_train,y_train)\n",
    "test_score = model_xgb.score(X_test,y_test)\n",
    "\n",
    "acc_score = accuracy_score(y_test,y_test_pred)\n",
    "f_score = f1_score(y_test, y_test_pred, average='weighted')\n",
    "precision = precision_score(y_test, y_test_pred)\n",
    "recall = metrics.recall_score(y_test,y_test_pred)\n",
    "roc_auc = metrics.roc_auc_score(y_test,y_test_pred)\n",
    "# Creating a dataframe\n",
    "\n",
    "model_eval_data = [[model_name, train_score, test_score, acc_score, f_score, precision, recall, roc_auc]]\n",
    "evaluate_df = pd.DataFrame(model_eval_data, columns=['Model Name', 'Training Score', 'Testing Score', 'Accuracy',\n",
    "                                          'F1 Score', 'Precision', 'Recall', \"Roc-Auc\"])\n",
    "evaluate_df"
   ]
  },
  {
   "cell_type": "markdown",
   "metadata": {},
   "source": [
    "### Decision Tree Classifier"
   ]
  },
  {
   "cell_type": "code",
   "execution_count": 63,
   "metadata": {},
   "outputs": [],
   "source": [
    "model_dt = DecisionTreeClassifier()\n",
    "model_dt.fit(X_train, y_train)\n",
    "\n",
    "y_train_pred = model_dt.predict(X_train)\n",
    "y_test_pred = model_dt.predict(X_test)"
   ]
  },
  {
   "cell_type": "code",
   "execution_count": 64,
   "metadata": {},
   "outputs": [
    {
     "data": {
      "text/html": [
       "<div>\n",
       "<style scoped>\n",
       "    .dataframe tbody tr th:only-of-type {\n",
       "        vertical-align: middle;\n",
       "    }\n",
       "\n",
       "    .dataframe tbody tr th {\n",
       "        vertical-align: top;\n",
       "    }\n",
       "\n",
       "    .dataframe thead th {\n",
       "        text-align: right;\n",
       "    }\n",
       "</style>\n",
       "<table border=\"1\" class=\"dataframe\">\n",
       "  <thead>\n",
       "    <tr style=\"text-align: right;\">\n",
       "      <th></th>\n",
       "      <th>Model Name</th>\n",
       "      <th>Training Score</th>\n",
       "      <th>Testing Score</th>\n",
       "      <th>Accuracy</th>\n",
       "      <th>F1 Score</th>\n",
       "      <th>Precision</th>\n",
       "      <th>Recall</th>\n",
       "      <th>Roc-Auc</th>\n",
       "    </tr>\n",
       "  </thead>\n",
       "  <tbody>\n",
       "    <tr>\n",
       "      <th>0</th>\n",
       "      <td>Decision Tree Classifier</td>\n",
       "      <td>1.000000</td>\n",
       "      <td>0.997629</td>\n",
       "      <td>0.997629</td>\n",
       "      <td>0.997646</td>\n",
       "      <td>0.789137</td>\n",
       "      <td>0.812500</td>\n",
       "      <td>0.905610</td>\n",
       "    </tr>\n",
       "  </tbody>\n",
       "</table>\n",
       "</div>"
      ],
      "text/plain": [
       "                 Model Name  Training Score  Testing Score  Accuracy  \\\n",
       "0  Decision Tree Classifier        1.000000       0.997629  0.997629   \n",
       "\n",
       "   F1 Score  Precision   Recall  Roc-Auc  \n",
       "0  0.997646   0.789137 0.812500 0.905610  "
      ]
     },
     "execution_count": 64,
     "metadata": {},
     "output_type": "execute_result"
    }
   ],
   "source": [
    "model_name = 'Decision Tree Classifier'\n",
    "\n",
    "train_score = model_dt.score(X_train,y_train)\n",
    "test_score = model_dt.score(X_test,y_test)\n",
    "\n",
    "acc_score = accuracy_score(y_test,y_test_pred)\n",
    "f_score = f1_score(y_test, y_test_pred, average='weighted')\n",
    "precision = precision_score(y_test, y_test_pred)\n",
    "recall = metrics.recall_score(y_test,y_test_pred)\n",
    "roc_auc = metrics.roc_auc_score(y_test,y_test_pred)\n",
    "# Creating a dataframe\n",
    "\n",
    "model_eval_data = [[model_name, train_score, test_score, acc_score, f_score, precision, recall, roc_auc]]\n",
    "evaluate_df = pd.DataFrame(model_eval_data, columns=['Model Name', 'Training Score', 'Testing Score', 'Accuracy',\n",
    "                                          'F1 Score', 'Precision', 'Recall', \"Roc-Auc\"])\n",
    "evaluate_df"
   ]
  },
  {
   "cell_type": "code",
   "execution_count": 65,
   "metadata": {},
   "outputs": [],
   "source": [
    "\n",
    "dt_y_test_pred = model_dt.predict(X_test)\n",
    "xgb_y_test_pred = model_xgb.predict(X_test)\n",
    "lgbm_y_test_pred = model_lgbm.predict(X_test)\n",
    "lr_y_test_pred = model_lr.predict(X_test)"
   ]
  },
  {
   "cell_type": "code",
   "execution_count": 80,
   "metadata": {},
   "outputs": [],
   "source": [
    "# Custom function for creating comparison df\n",
    "def custom(y_train, y_test_pred):\n",
    "    acc_score = accuracy_score(y_test,y_test_pred)\n",
    "    f_score = f1_score(y_test, y_test_pred, average='weighted')\n",
    "    precision = precision_score(y_test, y_test_pred)\n",
    "    recall = metrics.recall_score(y_test,y_test_pred)\n",
    "    roc_auc = metrics.roc_auc_score(y_test,y_test_pred)\n",
    "    model_eval_data = [[acc_score, f_score, precision, recall, roc_auc]]\n",
    "    return model_eval_data"
   ]
  },
  {
   "cell_type": "code",
   "execution_count": 72,
   "metadata": {},
   "outputs": [],
   "source": [
    "comparison_list = []\n",
    "comparison_list.append([custom(y_train, dt_y_test_pred)[0], custom(y_train, xgb_y_test_pred)[0], custom(y_train, lgbm_y_test_pred)[0],\n",
    "            custom(y_train, lr_y_test_pred)[0]])"
   ]
  },
  {
   "cell_type": "code",
   "execution_count": 78,
   "metadata": {},
   "outputs": [],
   "source": [
    "comparison_df = pd.DataFrame(comparison_list[0]).T\n",
    "comparison_df.columns  = [\"DecisionTree\", \"XGBoost\", \"LightGBM\", \"LogisticRegression\"]\n",
    "comparison_df.index = [\"Accuracy\", \"F1_Score\", \"Precision\", \"Recall\", \"Roc-Auc\"]"
   ]
  },
  {
   "cell_type": "code",
   "execution_count": 79,
   "metadata": {},
   "outputs": [
    {
     "data": {
      "text/html": [
       "<div>\n",
       "<style scoped>\n",
       "    .dataframe tbody tr th:only-of-type {\n",
       "        vertical-align: middle;\n",
       "    }\n",
       "\n",
       "    .dataframe tbody tr th {\n",
       "        vertical-align: top;\n",
       "    }\n",
       "\n",
       "    .dataframe thead th {\n",
       "        text-align: right;\n",
       "    }\n",
       "</style>\n",
       "<table border=\"1\" class=\"dataframe\">\n",
       "  <thead>\n",
       "    <tr style=\"text-align: right;\">\n",
       "      <th></th>\n",
       "      <th>DecisionTree</th>\n",
       "      <th>XGBoost</th>\n",
       "      <th>LightGBM</th>\n",
       "      <th>LogisticRegression</th>\n",
       "    </tr>\n",
       "  </thead>\n",
       "  <tbody>\n",
       "    <tr>\n",
       "      <th>Accuracy</th>\n",
       "      <td>0.997629</td>\n",
       "      <td>0.998785</td>\n",
       "      <td>0.997127</td>\n",
       "      <td>0.993603</td>\n",
       "    </tr>\n",
       "    <tr>\n",
       "      <th>F1_Score</th>\n",
       "      <td>0.997646</td>\n",
       "      <td>0.998738</td>\n",
       "      <td>0.997093</td>\n",
       "      <td>0.990949</td>\n",
       "    </tr>\n",
       "    <tr>\n",
       "      <th>Precision</th>\n",
       "      <td>0.789137</td>\n",
       "      <td>0.963818</td>\n",
       "      <td>0.767426</td>\n",
       "      <td>0.000000</td>\n",
       "    </tr>\n",
       "    <tr>\n",
       "      <th>Recall</th>\n",
       "      <td>0.812500</td>\n",
       "      <td>0.823684</td>\n",
       "      <td>0.731579</td>\n",
       "      <td>0.000000</td>\n",
       "    </tr>\n",
       "    <tr>\n",
       "      <th>Roc-Auc</th>\n",
       "      <td>0.905610</td>\n",
       "      <td>0.911751</td>\n",
       "      <td>0.865136</td>\n",
       "      <td>0.499730</td>\n",
       "    </tr>\n",
       "  </tbody>\n",
       "</table>\n",
       "</div>"
      ],
      "text/plain": [
       "           DecisionTree  XGBoost  LightGBM  LogisticRegression\n",
       "Accuracy       0.997629 0.998785  0.997127            0.993603\n",
       "F1_Score       0.997646 0.998738  0.997093            0.990949\n",
       "Precision      0.789137 0.963818  0.767426            0.000000\n",
       "Recall         0.812500 0.823684  0.731579            0.000000\n",
       "Roc-Auc        0.905610 0.911751  0.865136            0.499730"
      ]
     },
     "execution_count": 79,
     "metadata": {},
     "output_type": "execute_result"
    }
   ],
   "source": [
    "comparison_df"
   ]
  }
 ],
 "metadata": {
  "interpreter": {
   "hash": "40d3a090f54c6569ab1632332b64b2c03c39dcf918b08424e98f38b5ae0af88f"
  },
  "kernelspec": {
   "display_name": "Python 3.9.7 ('base')",
   "language": "python",
   "name": "python3"
  },
  "language_info": {
   "codemirror_mode": {
    "name": "ipython",
    "version": 3
   },
   "file_extension": ".py",
   "mimetype": "text/x-python",
   "name": "python",
   "nbconvert_exporter": "python",
   "pygments_lexer": "ipython3",
   "version": "3.9.7"
  },
  "orig_nbformat": 4
 },
 "nbformat": 4,
 "nbformat_minor": 2
}
