{
 "cells": [
  {
   "cell_type": "markdown",
   "metadata": {},
   "source": [
    "### Importing Libraries & Data Reading"
   ]
  },
  {
   "cell_type": "code",
   "execution_count": null,
   "metadata": {},
   "outputs": [],
   "source": [
    "import pandas as pd\n",
    "df = pd.read_excel(\"/Users/tevfikerkut/Downloads/Classeur1.xlsx\")\n",
    "df[\"Classeur\"] = 1\n",
    "for i in range(2,21):\n",
    "    name = \"Classeur\" + str(i)\n",
    "    temp_df = pd.read_excel(\"/Users/tevfikerkut/Downloads/{}.xlsx\".format(name))\n",
    "    temp_df.drop(columns = [\"I\", \"SOC_init\"])\n",
    "    temp_df[\"Classeur\"] = int(i)\n",
    "    df = pd.concat([df, temp_df])\n",
    "    print(df.shape)\n",
    "df = df.drop(columns = [\"I\", \"SOC_init\"])\n",
    "\n",
    "#df.to_csv(\"maysas_df.csv\", index = False)"
   ]
  },
  {
   "cell_type": "code",
   "execution_count": 1,
   "metadata": {},
   "outputs": [],
   "source": [
    "import seaborn as sns\n",
    "import matplotlib.pyplot as plt\n",
    "import pandas as pd\n",
    "import warnings\n",
    "warnings.filterwarnings('ignore')\n",
    "df = pd.read_csv(\"maysas_df.csv\")"
   ]
  },
  {
   "cell_type": "code",
   "execution_count": 21,
   "metadata": {},
   "outputs": [],
   "source": [
    "from sklearn.metrics import mean_squared_error, mean_absolute_error, mean_absolute_percentage_error"
   ]
  },
  {
   "cell_type": "markdown",
   "metadata": {},
   "source": [
    "### Exploratary Data Analysis"
   ]
  },
  {
   "cell_type": "code",
   "execution_count": 2,
   "metadata": {},
   "outputs": [
    {
     "name": "stdout",
     "output_type": "stream",
     "text": [
      "<class 'pandas.core.frame.DataFrame'>\n",
      "RangeIndex: 15547172 entries, 0 to 15547171\n",
      "Data columns (total 5 columns):\n",
      " #   Column    Dtype  \n",
      "---  ------    -----  \n",
      " 0   tension   float64\n",
      " 1   courant   float64\n",
      " 2   SOC       float64\n",
      " 3   capacite  float64\n",
      " 4   Classeur  int64  \n",
      "dtypes: float64(4), int64(1)\n",
      "memory usage: 593.1 MB\n"
     ]
    }
   ],
   "source": [
    "df.info()"
   ]
  },
  {
   "cell_type": "code",
   "execution_count": 3,
   "metadata": {},
   "outputs": [
    {
     "data": {
      "text/plain": [
       "tension     0\n",
       "courant     0\n",
       "SOC         0\n",
       "capacite    0\n",
       "Classeur    0\n",
       "dtype: int64"
      ]
     },
     "execution_count": 3,
     "metadata": {},
     "output_type": "execute_result"
    }
   ],
   "source": [
    "df.isna().sum()"
   ]
  },
  {
   "cell_type": "markdown",
   "metadata": {},
   "source": [
    "Our dataset seems pretty clear!"
   ]
  },
  {
   "cell_type": "code",
   "execution_count": 4,
   "metadata": {},
   "outputs": [
    {
     "data": {
      "text/html": [
       "<div>\n",
       "<style scoped>\n",
       "    .dataframe tbody tr th:only-of-type {\n",
       "        vertical-align: middle;\n",
       "    }\n",
       "\n",
       "    .dataframe tbody tr th {\n",
       "        vertical-align: top;\n",
       "    }\n",
       "\n",
       "    .dataframe thead th {\n",
       "        text-align: right;\n",
       "    }\n",
       "</style>\n",
       "<table border=\"1\" class=\"dataframe\">\n",
       "  <thead>\n",
       "    <tr style=\"text-align: right;\">\n",
       "      <th></th>\n",
       "      <th>count</th>\n",
       "      <th>mean</th>\n",
       "      <th>std</th>\n",
       "      <th>min</th>\n",
       "      <th>25%</th>\n",
       "      <th>50%</th>\n",
       "      <th>75%</th>\n",
       "      <th>max</th>\n",
       "    </tr>\n",
       "  </thead>\n",
       "  <tbody>\n",
       "    <tr>\n",
       "      <th>tension</th>\n",
       "      <td>15547172.0</td>\n",
       "      <td>0.033314</td>\n",
       "      <td>0.000399</td>\n",
       "      <td>0.031701</td>\n",
       "      <td>0.033242</td>\n",
       "      <td>0.033485</td>\n",
       "      <td>0.033550</td>\n",
       "      <td>0.033551</td>\n",
       "    </tr>\n",
       "    <tr>\n",
       "      <th>courant</th>\n",
       "      <td>15547172.0</td>\n",
       "      <td>0.046916</td>\n",
       "      <td>0.334231</td>\n",
       "      <td>-1.230000</td>\n",
       "      <td>0.070820</td>\n",
       "      <td>0.169207</td>\n",
       "      <td>0.200000</td>\n",
       "      <td>0.200000</td>\n",
       "    </tr>\n",
       "    <tr>\n",
       "      <th>SOC</th>\n",
       "      <td>15547172.0</td>\n",
       "      <td>0.689544</td>\n",
       "      <td>0.190288</td>\n",
       "      <td>-1.230000</td>\n",
       "      <td>0.601905</td>\n",
       "      <td>0.726037</td>\n",
       "      <td>0.835051</td>\n",
       "      <td>0.883629</td>\n",
       "    </tr>\n",
       "    <tr>\n",
       "      <th>capacite</th>\n",
       "      <td>15547172.0</td>\n",
       "      <td>38.058928</td>\n",
       "      <td>2.288053</td>\n",
       "      <td>34.850000</td>\n",
       "      <td>36.900000</td>\n",
       "      <td>38.950000</td>\n",
       "      <td>41.000000</td>\n",
       "      <td>41.000000</td>\n",
       "    </tr>\n",
       "    <tr>\n",
       "      <th>Classeur</th>\n",
       "      <td>15547172.0</td>\n",
       "      <td>10.190446</td>\n",
       "      <td>5.757165</td>\n",
       "      <td>1.000000</td>\n",
       "      <td>5.000000</td>\n",
       "      <td>10.000000</td>\n",
       "      <td>15.000000</td>\n",
       "      <td>20.000000</td>\n",
       "    </tr>\n",
       "  </tbody>\n",
       "</table>\n",
       "</div>"
      ],
      "text/plain": [
       "               count       mean       std        min        25%        50%  \\\n",
       "tension   15547172.0   0.033314  0.000399   0.031701   0.033242   0.033485   \n",
       "courant   15547172.0   0.046916  0.334231  -1.230000   0.070820   0.169207   \n",
       "SOC       15547172.0   0.689544  0.190288  -1.230000   0.601905   0.726037   \n",
       "capacite  15547172.0  38.058928  2.288053  34.850000  36.900000  38.950000   \n",
       "Classeur  15547172.0  10.190446  5.757165   1.000000   5.000000  10.000000   \n",
       "\n",
       "                75%        max  \n",
       "tension    0.033550   0.033551  \n",
       "courant    0.200000   0.200000  \n",
       "SOC        0.835051   0.883629  \n",
       "capacite  41.000000  41.000000  \n",
       "Classeur  15.000000  20.000000  "
      ]
     },
     "execution_count": 4,
     "metadata": {},
     "output_type": "execute_result"
    }
   ],
   "source": [
    "df.describe().T"
   ]
  },
  {
   "cell_type": "markdown",
   "metadata": {},
   "source": [
    "### Let's add some visualizations for better understanding our dataset"
   ]
  },
  {
   "cell_type": "markdown",
   "metadata": {},
   "source": [
    "#### Tension Plot"
   ]
  },
  {
   "cell_type": "code",
   "execution_count": 5,
   "metadata": {},
   "outputs": [
    {
     "data": {
      "text/plain": [
       "[<matplotlib.lines.Line2D at 0x7fac7132a2b0>]"
      ]
     },
     "execution_count": 5,
     "metadata": {},
     "output_type": "execute_result"
    },
    {
     "data": {
      "image/png": "[encoded data removed]",
      "text/plain": [
       "<Figure size 432x288 with 1 Axes>"
      ]
     },
     "metadata": {
      "needs_background": "light"
     },
     "output_type": "display_data"
    }
   ],
   "source": [
    "plt.plot(df.tension)"
   ]
  },
  {
   "cell_type": "markdown",
   "metadata": {},
   "source": [
    "#### Courant Plot"
   ]
  },
  {
   "cell_type": "code",
   "execution_count": 6,
   "metadata": {},
   "outputs": [
    {
     "data": {
      "text/plain": [
       "[<matplotlib.lines.Line2D at 0x7fac20147970>]"
      ]
     },
     "execution_count": 6,
     "metadata": {},
     "output_type": "execute_result"
    },
    {
     "data": {
      "image/png": "[encoded data removed]",
      "text/plain": [
       "<Figure size 432x288 with 1 Axes>"
      ]
     },
     "metadata": {
      "needs_background": "light"
     },
     "output_type": "display_data"
    }
   ],
   "source": [
    "plt.plot(df.courant)"
   ]
  },
  {
   "cell_type": "markdown",
   "metadata": {},
   "source": [
    "#### Capacité Plot"
   ]
  },
  {
   "cell_type": "code",
   "execution_count": 14,
   "metadata": {},
   "outputs": [
    {
     "data": {
      "text/plain": [
       "[<matplotlib.lines.Line2D at 0x7fac507ed8b0>]"
      ]
     },
     "execution_count": 14,
     "metadata": {},
     "output_type": "execute_result"
    },
    {
     "data": {
      "image/png": "[encoded data removed]",
      "text/plain": [
       "<Figure size 432x288 with 1 Axes>"
      ]
     },
     "metadata": {
      "needs_background": "light"
     },
     "output_type": "display_data"
    }
   ],
   "source": [
    "plt.plot(df.capacite)"
   ]
  },
  {
   "cell_type": "markdown",
   "metadata": {},
   "source": [
    "#### SOC Plot"
   ]
  },
  {
   "cell_type": "code",
   "execution_count": 8,
   "metadata": {},
   "outputs": [
    {
     "data": {
      "text/plain": [
       "[<matplotlib.lines.Line2D at 0x7fac50441f40>]"
      ]
     },
     "execution_count": 8,
     "metadata": {},
     "output_type": "execute_result"
    },
    {
     "data": {
      "image/png": "[encoded data removed]",
      "text/plain": [
       "<Figure size 432x288 with 1 Axes>"
      ]
     },
     "metadata": {
      "needs_background": "light"
     },
     "output_type": "display_data"
    }
   ],
   "source": [
    "plt.plot(df.SOC)"
   ]
  },
  {
   "cell_type": "markdown",
   "metadata": {},
   "source": [
    "#### Correlation Matrix Plot"
   ]
  },
  {
   "cell_type": "code",
   "execution_count": 9,
   "metadata": {},
   "outputs": [
    {
     "data": {
      "text/html": [
       "<style type=\"text/css\">\n",
       "#T_d5e80_row0_col0, #T_d5e80_row1_col1, #T_d5e80_row2_col2, #T_d5e80_row3_col3, #T_d5e80_row4_col4 {\n",
       "  background-color: #b40426;\n",
       "  color: #f1f1f1;\n",
       "}\n",
       "#T_d5e80_row0_col1, #T_d5e80_row1_col0 {\n",
       "  background-color: #e46e56;\n",
       "  color: #f1f1f1;\n",
       "}\n",
       "#T_d5e80_row0_col2 {\n",
       "  background-color: #e6d7cf;\n",
       "  color: #000000;\n",
       "}\n",
       "#T_d5e80_row0_col3, #T_d5e80_row1_col3 {\n",
       "  background-color: #dbdcde;\n",
       "  color: #000000;\n",
       "}\n",
       "#T_d5e80_row0_col4, #T_d5e80_row1_col4 {\n",
       "  background-color: #dadce0;\n",
       "  color: #000000;\n",
       "}\n",
       "#T_d5e80_row1_col2 {\n",
       "  background-color: #86a9fc;\n",
       "  color: #f1f1f1;\n",
       "}\n",
       "#T_d5e80_row2_col0 {\n",
       "  background-color: #d6dce4;\n",
       "  color: #000000;\n",
       "}\n",
       "#T_d5e80_row2_col1 {\n",
       "  background-color: #6485ec;\n",
       "  color: #f1f1f1;\n",
       "}\n",
       "#T_d5e80_row2_col3 {\n",
       "  background-color: #c7d7f0;\n",
       "  color: #000000;\n",
       "}\n",
       "#T_d5e80_row2_col4 {\n",
       "  background-color: #eed0c0;\n",
       "  color: #000000;\n",
       "}\n",
       "#T_d5e80_row3_col0, #T_d5e80_row3_col1, #T_d5e80_row3_col2, #T_d5e80_row3_col4, #T_d5e80_row4_col0, #T_d5e80_row4_col1, #T_d5e80_row4_col3 {\n",
       "  background-color: #3b4cc0;\n",
       "  color: #f1f1f1;\n",
       "}\n",
       "#T_d5e80_row4_col2 {\n",
       "  background-color: #90b2fe;\n",
       "  color: #000000;\n",
       "}\n",
       "</style>\n",
       "<table id=\"T_d5e80\">\n",
       "  <thead>\n",
       "    <tr>\n",
       "      <th class=\"blank level0\" >&nbsp;</th>\n",
       "      <th id=\"T_d5e80_level0_col0\" class=\"col_heading level0 col0\" >tension</th>\n",
       "      <th id=\"T_d5e80_level0_col1\" class=\"col_heading level0 col1\" >courant</th>\n",
       "      <th id=\"T_d5e80_level0_col2\" class=\"col_heading level0 col2\" >SOC</th>\n",
       "      <th id=\"T_d5e80_level0_col3\" class=\"col_heading level0 col3\" >capacite</th>\n",
       "      <th id=\"T_d5e80_level0_col4\" class=\"col_heading level0 col4\" >Classeur</th>\n",
       "    </tr>\n",
       "  </thead>\n",
       "  <tbody>\n",
       "    <tr>\n",
       "      <th id=\"T_d5e80_level0_row0\" class=\"row_heading level0 row0\" >tension</th>\n",
       "      <td id=\"T_d5e80_row0_col0\" class=\"data row0 col0\" >1.000000</td>\n",
       "      <td id=\"T_d5e80_row0_col1\" class=\"data row0 col1\" >0.845228</td>\n",
       "      <td id=\"T_d5e80_row0_col2\" class=\"data row0 col2\" >0.474460</td>\n",
       "      <td id=\"T_d5e80_row0_col3\" class=\"data row0 col3\" >0.000288</td>\n",
       "      <td id=\"T_d5e80_row0_col4\" class=\"data row0 col4\" >-0.001579</td>\n",
       "    </tr>\n",
       "    <tr>\n",
       "      <th id=\"T_d5e80_level0_row1\" class=\"row_heading level0 row1\" >courant</th>\n",
       "      <td id=\"T_d5e80_row1_col0\" class=\"data row1 col0\" >0.845228</td>\n",
       "      <td id=\"T_d5e80_row1_col1\" class=\"data row1 col1\" >1.000000</td>\n",
       "      <td id=\"T_d5e80_row1_col2\" class=\"data row1 col2\" >0.133286</td>\n",
       "      <td id=\"T_d5e80_row1_col3\" class=\"data row1 col3\" >0.000338</td>\n",
       "      <td id=\"T_d5e80_row1_col4\" class=\"data row1 col4\" >-0.000744</td>\n",
       "    </tr>\n",
       "    <tr>\n",
       "      <th id=\"T_d5e80_level0_row2\" class=\"row_heading level0 row2\" >SOC</th>\n",
       "      <td id=\"T_d5e80_row2_col0\" class=\"data row2 col0\" >0.474460</td>\n",
       "      <td id=\"T_d5e80_row2_col1\" class=\"data row2 col1\" >0.133286</td>\n",
       "      <td id=\"T_d5e80_row2_col2\" class=\"data row2 col2\" >1.000000</td>\n",
       "      <td id=\"T_d5e80_row2_col3\" class=\"data row2 col3\" >-0.131875</td>\n",
       "      <td id=\"T_d5e80_row2_col4\" class=\"data row2 col4\" >0.162282</td>\n",
       "    </tr>\n",
       "    <tr>\n",
       "      <th id=\"T_d5e80_level0_row3\" class=\"row_heading level0 row3\" >capacite</th>\n",
       "      <td id=\"T_d5e80_row3_col0\" class=\"data row3 col0\" >0.000288</td>\n",
       "      <td id=\"T_d5e80_row3_col1\" class=\"data row3 col1\" >0.000338</td>\n",
       "      <td id=\"T_d5e80_row3_col2\" class=\"data row3 col2\" >-0.131875</td>\n",
       "      <td id=\"T_d5e80_row3_col3\" class=\"data row3 col3\" >1.000000</td>\n",
       "      <td id=\"T_d5e80_row3_col4\" class=\"data row3 col4\" >-0.969328</td>\n",
       "    </tr>\n",
       "    <tr>\n",
       "      <th id=\"T_d5e80_level0_row4\" class=\"row_heading level0 row4\" >Classeur</th>\n",
       "      <td id=\"T_d5e80_row4_col0\" class=\"data row4 col0\" >-0.001579</td>\n",
       "      <td id=\"T_d5e80_row4_col1\" class=\"data row4 col1\" >-0.000744</td>\n",
       "      <td id=\"T_d5e80_row4_col2\" class=\"data row4 col2\" >0.162282</td>\n",
       "      <td id=\"T_d5e80_row4_col3\" class=\"data row4 col3\" >-0.969328</td>\n",
       "      <td id=\"T_d5e80_row4_col4\" class=\"data row4 col4\" >1.000000</td>\n",
       "    </tr>\n",
       "  </tbody>\n",
       "</table>\n"
      ],
      "text/plain": [
       "<pandas.io.formats.style.Styler at 0x7fac504695e0>"
      ]
     },
     "execution_count": 9,
     "metadata": {},
     "output_type": "execute_result"
    }
   ],
   "source": [
    "import numpy as np\n",
    "corr = df.corr()\n",
    "corr.style.background_gradient(cmap='coolwarm')"
   ]
  },
  {
   "cell_type": "markdown",
   "metadata": {},
   "source": [
    "It seems like there is a correlation between capacite and SOC"
   ]
  },
  {
   "cell_type": "markdown",
   "metadata": {},
   "source": [
    "## Building Models"
   ]
  },
  {
   "cell_type": "code",
   "execution_count": 12,
   "metadata": {},
   "outputs": [],
   "source": [
    "X = df.drop([\"capacite\", \"Classeur\"],1)\n",
    "y = df.capacite"
   ]
  },
  {
   "cell_type": "code",
   "execution_count": 13,
   "metadata": {},
   "outputs": [],
   "source": [
    "from sklearn.model_selection import train_test_split\n",
    "X_train, X_test, y_train, y_test = train_test_split(X, y , test_size = .2, random_state = 42)"
   ]
  },
  {
   "cell_type": "markdown",
   "metadata": {},
   "source": [
    "### LightGBM "
   ]
  },
  {
   "cell_type": "code",
   "execution_count": 13,
   "metadata": {},
   "outputs": [],
   "source": [
    "import lightgbm as lgbm\n",
    "\n",
    "model = lgbm.LGBMRegressor(objective = \"regression\")\n",
    "model.fit(X_train, y_train)\n",
    "preds = model.predict(X_test)"
   ]
  },
  {
   "cell_type": "code",
   "execution_count": 14,
   "metadata": {},
   "outputs": [],
   "source": [
    "lgbm_mse = mean_squared_error(preds, y_test)\n",
    "lgbm_mape = mean_absolute_percentage_error(preds, y_test)\n",
    "lgbm_mae = mean_absolute_error(preds, y_test)"
   ]
  },
  {
   "cell_type": "code",
   "execution_count": 15,
   "metadata": {},
   "outputs": [
    {
     "name": "stdout",
     "output_type": "stream",
     "text": [
      "Mean absolute error is 1.2101853021569464\n",
      "Mean absolute percentage error is 0.031879311686975206\n",
      "Mean squared error is 2.8398366307715377\n"
     ]
    }
   ],
   "source": [
    "print(\"Mean absolute error is {}\".format(lgbm_mae))\n",
    "print(\"Mean absolute percentage error is {}\".format(lgbm_mape))\n",
    "print(\"Mean squared error is {}\".format(lgbm_mse))"
   ]
  },
  {
   "cell_type": "markdown",
   "metadata": {},
   "source": [
    "### Random Forest"
   ]
  },
  {
   "cell_type": "code",
   "execution_count": 15,
   "metadata": {},
   "outputs": [],
   "source": [
    "from sklearn.ensemble import RandomForestRegressor\n",
    "model = RandomForestRegressor(max_depth = 3, n_estimators= 20)\n",
    "model.fit(X_train, y_train)\n",
    "preds = model.predict(X_test)"
   ]
  },
  {
   "cell_type": "code",
   "execution_count": 16,
   "metadata": {},
   "outputs": [],
   "source": [
    "from sklearn.metrics import mean_squared_error, mean_absolute_error, mean_absolute_percentage_error\n",
    "rf_mse = mean_squared_error(preds, y_test)\n",
    "rf_mape = mean_absolute_percentage_error(preds, y_test)\n",
    "rf_mae = mean_absolute_error(preds, y_test)"
   ]
  },
  {
   "cell_type": "code",
   "execution_count": 17,
   "metadata": {},
   "outputs": [
    {
     "name": "stdout",
     "output_type": "stream",
     "text": [
      "Mean absolute error is 1.938106490193307\n",
      "Mean absolute percentage error is 0.05106343201274263\n",
      "Mean squared error is 4.910515755583893\n"
     ]
    }
   ],
   "source": [
    "print(\"Mean absolute error is {}\".format(rf_mae))\n",
    "print(\"Mean absolute percentage error is {}\".format(rf_mape))\n",
    "print(\"Mean squared error is {}\".format(rf_mse))"
   ]
  },
  {
   "cell_type": "markdown",
   "metadata": {},
   "source": [
    "### CATBoost"
   ]
  },
  {
   "cell_type": "code",
   "execution_count": 19,
   "metadata": {},
   "outputs": [
    {
     "name": "stdout",
     "output_type": "stream",
     "text": [
      "Learning rate set to 0.181614\n",
      "0:\tlearn: 2.2587956\ttotal: 664ms\tremaining: 11m 3s\n",
      "100:\tlearn: 1.7476352\ttotal: 36.1s\tremaining: 5m 21s\n",
      "200:\tlearn: 1.7167133\ttotal: 1m 11s\tremaining: 4m 44s\n",
      "300:\tlearn: 1.7094900\ttotal: 1m 47s\tremaining: 4m 8s\n",
      "400:\tlearn: 1.7044520\ttotal: 2m 23s\tremaining: 3m 33s\n",
      "500:\tlearn: 1.7005743\ttotal: 2m 57s\tremaining: 2m 56s\n",
      "600:\tlearn: 1.6978703\ttotal: 3m 32s\tremaining: 2m 20s\n",
      "700:\tlearn: 1.6954739\ttotal: 4m 8s\tremaining: 1m 45s\n",
      "800:\tlearn: 1.6931049\ttotal: 4m 44s\tremaining: 1m 10s\n",
      "900:\tlearn: 1.6915279\ttotal: 5m 18s\tremaining: 35s\n",
      "999:\tlearn: 1.6903748\ttotal: 5m 51s\tremaining: 0us\n"
     ]
    }
   ],
   "source": [
    "import catboost as cat\n",
    "model = cat.CatBoostRegressor(objective = \"RMSE\", verbose = 100)\n",
    "model.fit(X_train, y_train)\n",
    "preds = model.predict(X_test)"
   ]
  },
  {
   "cell_type": "code",
   "execution_count": 22,
   "metadata": {},
   "outputs": [],
   "source": [
    "cat_mse = mean_squared_error(preds, y_test)\n",
    "cat_mape = mean_absolute_percentage_error(preds, y_test)\n",
    "cat_mae = mean_absolute_error(preds, y_test)"
   ]
  },
  {
   "cell_type": "code",
   "execution_count": 23,
   "metadata": {},
   "outputs": [
    {
     "name": "stdout",
     "output_type": "stream",
     "text": [
      "Mean absolute error is 1.2335132449839408\n",
      "Mean absolute percentage error is 0.03248405207284872\n",
      "Mean squared error is 2.8608940340011233\n"
     ]
    }
   ],
   "source": [
    "print(\"Mean absolute error is {}\".format(cat_mae))\n",
    "print(\"Mean absolute percentage error is {}\".format(cat_mape))\n",
    "print(\"Mean squared error is {}\".format(cat_mse))"
   ]
  },
  {
   "cell_type": "markdown",
   "metadata": {},
   "source": [
    "### XGBoost"
   ]
  },
  {
   "cell_type": "code",
   "execution_count": 24,
   "metadata": {},
   "outputs": [],
   "source": [
    "import xgboost as xgb\n",
    "model = xgb.XGBRegressor()\n",
    "model.fit(X_train, y_train)\n",
    "preds = model.predict(X_test)"
   ]
  },
  {
   "cell_type": "code",
   "execution_count": 25,
   "metadata": {},
   "outputs": [],
   "source": [
    "xgb_mse = mean_squared_error(preds, y_test)\n",
    "xgb_mape = mean_absolute_percentage_error(preds, y_test)\n",
    "xgb_mae = mean_absolute_error(preds, y_test)"
   ]
  },
  {
   "cell_type": "code",
   "execution_count": 26,
   "metadata": {},
   "outputs": [
    {
     "name": "stdout",
     "output_type": "stream",
     "text": [
      "Mean absolute error is 1.926377869226247\n",
      "Mean absolute percentage error is 0.050751936502511814\n",
      "Mean squared error is 4.872943324209841\n"
     ]
    }
   ],
   "source": [
    "print(\"Mean absolute error is {}\".format(xgb_mae))\n",
    "print(\"Mean absolute percentage error is {}\".format(xgb_mape))\n",
    "print(\"Mean squared error is {}\".format(xgb_mse))"
   ]
  },
  {
   "cell_type": "markdown",
   "metadata": {},
   "source": [
    "### ElasticNET"
   ]
  },
  {
   "cell_type": "code",
   "execution_count": 27,
   "metadata": {},
   "outputs": [],
   "source": [
    "from sklearn.linear_model import ElasticNet\n",
    "model = ElasticNet()\n",
    "model.fit(X_train, y_train)\n",
    "en_preds = model.predict(X_test)"
   ]
  },
  {
   "cell_type": "code",
   "execution_count": 28,
   "metadata": {},
   "outputs": [],
   "source": [
    "en_mse = mean_squared_error(en_preds, y_test)\n",
    "en_mape = mean_absolute_percentage_error(en_preds, y_test)\n",
    "en_mae = mean_absolute_error(en_preds, y_test)"
   ]
  },
  {
   "cell_type": "code",
   "execution_count": 29,
   "metadata": {},
   "outputs": [
    {
     "name": "stdout",
     "output_type": "stream",
     "text": [
      "Mean absolute error is 2.04362039609614\n",
      "Mean absolute percentage error is 0.05369554940945343\n",
      "Mean squared error is 5.237951617200455\n"
     ]
    }
   ],
   "source": [
    "print(\"Mean absolute error is {}\".format(en_mae))\n",
    "print(\"Mean absolute percentage error is {}\".format(en_mape))\n",
    "print(\"Mean squared error is {}\".format(en_mse))"
   ]
  },
  {
   "cell_type": "markdown",
   "metadata": {},
   "source": [
    "### Model Comparison"
   ]
  }
 ],
 "metadata": {
  "interpreter": {
   "hash": "40d3a090f54c6569ab1632332b64b2c03c39dcf918b08424e98f38b5ae0af88f"
  },
  "kernelspec": {
   "display_name": "Python 3.9.7 ('base')",
   "language": "python",
   "name": "python3"
  },
  "language_info": {
   "codemirror_mode": {
    "name": "ipython",
    "version": 3
   },
   "file_extension": ".py",
   "mimetype": "text/x-python",
   "name": "python",
   "nbconvert_exporter": "python",
   "pygments_lexer": "ipython3",
   "version": "3.9.7"
  },
  "orig_nbformat": 4
 },
 "nbformat": 4,
 "nbformat_minor": 2
}
