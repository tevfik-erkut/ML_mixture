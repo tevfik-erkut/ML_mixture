{
 "cells": [
  {
   "cell_type": "markdown",
   "metadata": {},
   "source": [
    "### Importing Scraped Files"
   ]
  },
  {
   "cell_type": "code",
   "execution_count": null,
   "metadata": {},
   "outputs": [],
   "source": [
    "import pandas as pd\n",
    "import numpy as np\n",
    "import re\n",
    "envue = pd.read_csv(\"envue_full.csv\")\n",
    "hampton = pd.read_csv(\"HamptonInn.csv\")\n",
    "myriad = pd.read_csv(\"myriad.csv\")\n",
    "sheraton = pd.read_csv(\"sheraton.csv\")\n",
    "aloft_miami = pd.read_csv(\"Aloft_Miami.csv\")"
   ]
  },
  {
   "cell_type": "markdown",
   "metadata": {},
   "source": [
    "#### Functions"
   ]
  },
  {
   "cell_type": "code",
   "execution_count": 36,
   "metadata": {},
   "outputs": [],
   "source": [
    "def clean(text):\n",
    "    text = re.sub('https?://\\S+|www\\.\\S+', '', text)\n",
    "    text = re.sub(r'\\s+', ' ', text, flags=re.I)\n",
    "    text = re.sub('\\[.*?\\]', '', text)\n",
    "    text = re.sub('\\n', '', text)\n",
    "    text = re.sub('\\w*\\d\\w*', '', text)\n",
    "    text = re.sub('<.*?>+', '', text)\n",
    "    return text"
   ]
  },
  {
   "cell_type": "markdown",
   "metadata": {},
   "source": [
    "### Introductions"
   ]
  },
  {
   "cell_type": "markdown",
   "metadata": {},
   "source": [
    "Introduction\n",
    "Sentiment analysis refers to the use of natural language processing, text analysis, computational linguistics, and many more to identify and quantify the sentiment of some kind of text or audio.\n",
    "\n",
    "There are two major techniques for sentiment analysis :-\n",
    "\n",
    "• Supervised machine learning\n",
    "\n",
    "• Unsupervised lexicon-based\n",
    "\n",
    "Often, you may not have the convenience of a well-labeled training dataset. In those situations, you need to use unsupervised techniques for predicting the sentiment by using knowledgebases, ontologies, databases, and lexicons that have detailed information specially curated and prepared just for sentiment analysis.\n",
    "\n",
    "Here we use unsupervised lexicon based approach based on Vader lexicon for sentiment analysis."
   ]
  },
  {
   "cell_type": "markdown",
   "metadata": {},
   "source": [
    "Lets give an example"
   ]
  },
  {
   "cell_type": "code",
   "execution_count": 37,
   "metadata": {},
   "outputs": [
    {
     "name": "stdout",
     "output_type": "stream",
     "text": [
      "The phone is super cool!---------------- {'neg': 0.0, 'neu': 0.316, 'pos': 0.684, 'compound': 0.7574}\n",
      "The phone is super cool!!--------------- {'neg': 0.0, 'neu': 0.307, 'pos': 0.693, 'compound': 0.7772}\n",
      "The phone is super cool!!!-------------- {'neg': 0.0, 'neu': 0.298, 'pos': 0.702, 'compound': 0.795}\n"
     ]
    }
   ],
   "source": [
    "from vaderSentiment.vaderSentiment import SentimentIntensityAnalyzer\n",
    "analyser = SentimentIntensityAnalyzer()\n",
    "def sentiment_analyzer_scores(sentence):\n",
    "    score = analyser.polarity_scores(sentence)\n",
    "    print(\"{:-<40} {}\".format(sentence, str(score)))\n",
    "    \n",
    "sentiment_analyzer_scores(\"The phone is super cool!\")\n",
    "sentiment_analyzer_scores(\"The phone is super cool!!\")\n",
    "sentiment_analyzer_scores(\"The phone is super cool!!!\")\n"
   ]
  },
  {
   "cell_type": "markdown",
   "metadata": {},
   "source": [
    "to better understand the sentiment, we have to focus on \"compound\""
   ]
  },
  {
   "cell_type": "code",
   "execution_count": 38,
   "metadata": {},
   "outputs": [],
   "source": [
    "aloft_miami = aloft_miami.sort_values(\"date\").reset_index(drop = True) # sorting and resetting \n",
    "\n",
    "aloft_miami['text'] = aloft_miami['text'].apply(lambda x:clean(x)) # applying the clean function to clear unwanted letters.\n",
    "\n",
    "# I will use SentimentIntensityAnalyzer to do sentiment analysis.\n",
    "\n",
    "from vaderSentiment.vaderSentiment import SentimentIntensityAnalyzer\n",
    "analyser = SentimentIntensityAnalyzer()\n",
    "scores=[]\n",
    "for i in range(len(aloft_miami['text'])):\n",
    "    \n",
    "    score = analyser.polarity_scores(aloft_miami['text'][i])\n",
    "    score=score['compound']\n",
    "    scores.append(score)\n",
    "# What is polarity score and why does that important?\n",
    "    \"\"\"The key aspect of sentiment analysis is to analyze a body of text for understanding the opinion expressed by it. \n",
    "    Typically, we quantify this sentiment with a positive or negative value, called polarity. \n",
    "    The overall sentiment is often inferred as positive, neutral or negative from the sign of the polarity score.\n",
    "    \"\"\"\n",
    "\n",
    "sentiment=[]\n",
    "for i in scores:\n",
    "    if i>=0.05:  # bigger than 0.05 must be called as positive, according to the researchers / makers.\n",
    "        sentiment.append('Positive')\n",
    "    elif i<=(-0.05): # smaller than -0.05 must be called as negative, according to the researchers / makers.\n",
    "        sentiment.append('Negative')\n",
    "    else:\n",
    "        sentiment.append('Neutral')\n",
    "aloft_miami['sentiment']=pd.Series(np.array(sentiment))"
   ]
  },
  {
   "cell_type": "code",
   "execution_count": 39,
   "metadata": {},
   "outputs": [],
   "source": [
    "# choosing beforeaward and after_award dataframes\n",
    "before_award = aloft_miami[:350]\n",
    "after_award = aloft_miami[350:]"
   ]
  },
  {
   "cell_type": "code",
   "execution_count": 42,
   "metadata": {},
   "outputs": [
    {
     "data": {
      "text/html": [
       "<div>\n",
       "<style scoped>\n",
       "    .dataframe tbody tr th:only-of-type {\n",
       "        vertical-align: middle;\n",
       "    }\n",
       "\n",
       "    .dataframe tbody tr th {\n",
       "        vertical-align: top;\n",
       "    }\n",
       "\n",
       "    .dataframe thead th {\n",
       "        text-align: right;\n",
       "    }\n",
       "</style>\n",
       "<table border=\"1\" class=\"dataframe\">\n",
       "  <thead>\n",
       "    <tr style=\"text-align: right;\">\n",
       "      <th></th>\n",
       "      <th>hotelID</th>\n",
       "      <th>user</th>\n",
       "      <th>rating</th>\n",
       "      <th>text</th>\n",
       "      <th>date</th>\n",
       "      <th>location</th>\n",
       "      <th>sentiment</th>\n",
       "    </tr>\n",
       "  </thead>\n",
       "  <tbody>\n",
       "    <tr>\n",
       "      <th>0</th>\n",
       "      <td>Aloft_Miami</td>\n",
       "      <td>TheBear1998</td>\n",
       "      <td>4.0</td>\n",
       "      <td>I stayed here before an early morning flight r...</td>\n",
       "      <td>2017-11-01 00:00:00</td>\n",
       "      <td>Orlando, Florida</td>\n",
       "      <td>Positive</td>\n",
       "    </tr>\n",
       "    <tr>\n",
       "      <th>1</th>\n",
       "      <td>Aloft_Miami</td>\n",
       "      <td>Kirsty B</td>\n",
       "      <td>1.0</td>\n",
       "      <td>Be careful when booking here! We stayed one ni...</td>\n",
       "      <td>2017-12-01 00:00:00</td>\n",
       "      <td>NaN</td>\n",
       "      <td>Negative</td>\n",
       "    </tr>\n",
       "    <tr>\n",
       "      <th>2</th>\n",
       "      <td>Aloft_Miami</td>\n",
       "      <td>Kirsty B</td>\n",
       "      <td>1.0</td>\n",
       "      <td>Be careful when booking here! We stayed one ni...</td>\n",
       "      <td>2017-12-01 00:00:00</td>\n",
       "      <td>NaN</td>\n",
       "      <td>Negative</td>\n",
       "    </tr>\n",
       "    <tr>\n",
       "      <th>3</th>\n",
       "      <td>Aloft_Miami</td>\n",
       "      <td>Ioan N</td>\n",
       "      <td>5.0</td>\n",
       "      <td>My first visit in Miami -two day accommodation...</td>\n",
       "      <td>2017-12-01 00:00:00</td>\n",
       "      <td>NaN</td>\n",
       "      <td>Positive</td>\n",
       "    </tr>\n",
       "    <tr>\n",
       "      <th>4</th>\n",
       "      <td>Aloft_Miami</td>\n",
       "      <td>Kim H</td>\n",
       "      <td>5.0</td>\n",
       "      <td>This hotel was all that the pics on their webs...</td>\n",
       "      <td>2017-12-01 00:00:00</td>\n",
       "      <td>Missouri City, Texas</td>\n",
       "      <td>Positive</td>\n",
       "    </tr>\n",
       "  </tbody>\n",
       "</table>\n",
       "</div>"
      ],
      "text/plain": [
       "       hotelID         user  rating  \\\n",
       "0  Aloft_Miami  TheBear1998     4.0   \n",
       "1  Aloft_Miami     Kirsty B     1.0   \n",
       "2  Aloft_Miami     Kirsty B     1.0   \n",
       "3  Aloft_Miami       Ioan N     5.0   \n",
       "4  Aloft_Miami        Kim H     5.0   \n",
       "\n",
       "                                                text                 date  \\\n",
       "0  I stayed here before an early morning flight r...  2017-11-01 00:00:00   \n",
       "1  Be careful when booking here! We stayed one ni...  2017-12-01 00:00:00   \n",
       "2  Be careful when booking here! We stayed one ni...  2017-12-01 00:00:00   \n",
       "3  My first visit in Miami -two day accommodation...  2017-12-01 00:00:00   \n",
       "4  This hotel was all that the pics on their webs...  2017-12-01 00:00:00   \n",
       "\n",
       "               location sentiment  \n",
       "0      Orlando, Florida  Positive  \n",
       "1                   NaN  Negative  \n",
       "2                   NaN  Negative  \n",
       "3                   NaN  Positive  \n",
       "4  Missouri City, Texas  Positive  "
      ]
     },
     "execution_count": 42,
     "metadata": {},
     "output_type": "execute_result"
    }
   ],
   "source": [
    "before_award.head() # for instance\n"
   ]
  },
  {
   "cell_type": "code",
   "execution_count": 43,
   "metadata": {},
   "outputs": [
    {
     "name": "stdout",
     "output_type": "stream",
     "text": [
      "Before award, sentiment ratio was : 0.8714285714285714 in Aloft Miami Hotel\n",
      "After award, sentiment ratio was : 0.9 in Aloft Miami Hotel\n"
     ]
    }
   ],
   "source": [
    "print(\"Before award, sentiment ratio was : {} in Aloft Miami Hotel\".format((before_award.loc[(before_award.sentiment == \"Positive\")].shape[0]) / before_award.sentiment.shape[0]))\n",
    "print(\"After award, sentiment ratio was : {} in Aloft Miami Hotel\".format((after_award.loc[(after_award.sentiment == \"Positive\")].shape[0]) / after_award.sentiment.shape[0]))"
   ]
  },
  {
   "cell_type": "code",
   "execution_count": 44,
   "metadata": {},
   "outputs": [],
   "source": [
    "hampton['text'] = hampton['text'].apply(lambda x:clean(x))\n",
    "from vaderSentiment.vaderSentiment import SentimentIntensityAnalyzer\n",
    "analyser = SentimentIntensityAnalyzer()\n",
    "scores=[]\n",
    "for i in range(len(hampton['text'])):\n",
    "    \n",
    "    score = analyser.polarity_scores(hampton['text'][i])\n",
    "    score=score['compound']\n",
    "    scores.append(score)\n",
    "sentiment=[]\n",
    "for i in scores:\n",
    "    if i>=0.05:\n",
    "        sentiment.append('Positive')\n",
    "    elif i<=(-0.05):\n",
    "        sentiment.append('Negative')\n",
    "    else:\n",
    "        sentiment.append('Neutral')\n",
    "hampton['sentiment']=pd.Series(np.array(sentiment))"
   ]
  },
  {
   "cell_type": "code",
   "execution_count": 45,
   "metadata": {},
   "outputs": [],
   "source": [
    "hampton = hampton.sort_values(\"date\").reset_index(drop = True)"
   ]
  },
  {
   "cell_type": "code",
   "execution_count": 46,
   "metadata": {},
   "outputs": [
    {
     "name": "stdout",
     "output_type": "stream",
     "text": [
      "Before award, sentiment ratio was : 0.9354838709677419 in Hampton Hotel\n",
      "After award, sentiment ratio was : 0.9375 in Hampton Hotel\n"
     ]
    }
   ],
   "source": [
    "before_award = hampton[:62]\n",
    "after_award = hampton[62:]\n",
    "print(\"Before award, sentiment ratio was : {} in Hampton Hotel\".format((before_award.loc[(before_award.sentiment == \"Positive\")].shape[0]) / before_award.sentiment.shape[0]))\n",
    "print(\"After award, sentiment ratio was : {} in Hampton Hotel\".format((after_award.loc[(after_award.sentiment == \"Positive\")].shape[0]) / after_award.sentiment.shape[0]))"
   ]
  },
  {
   "cell_type": "code",
   "execution_count": 49,
   "metadata": {},
   "outputs": [
    {
     "data": {
      "text/html": [
       "<div>\n",
       "<style scoped>\n",
       "    .dataframe tbody tr th:only-of-type {\n",
       "        vertical-align: middle;\n",
       "    }\n",
       "\n",
       "    .dataframe tbody tr th {\n",
       "        vertical-align: top;\n",
       "    }\n",
       "\n",
       "    .dataframe thead th {\n",
       "        text-align: right;\n",
       "    }\n",
       "</style>\n",
       "<table border=\"1\" class=\"dataframe\">\n",
       "  <thead>\n",
       "    <tr style=\"text-align: right;\">\n",
       "      <th></th>\n",
       "      <th>hotelID</th>\n",
       "      <th>user</th>\n",
       "      <th>rating</th>\n",
       "      <th>text</th>\n",
       "      <th>date</th>\n",
       "      <th>location</th>\n",
       "      <th>sentiment</th>\n",
       "    </tr>\n",
       "  </thead>\n",
       "  <tbody>\n",
       "    <tr>\n",
       "      <th>47</th>\n",
       "      <td>Hampton Inn</td>\n",
       "      <td>Saysha M</td>\n",
       "      <td>5.0</td>\n",
       "      <td>Was a great experience. The staff was amazing....</td>\n",
       "      <td>2020-02-01 00:00:00</td>\n",
       "      <td>NaN</td>\n",
       "      <td>Positive</td>\n",
       "    </tr>\n",
       "    <tr>\n",
       "      <th>48</th>\n",
       "      <td>Hampton Inn</td>\n",
       "      <td>Ole_Roll</td>\n",
       "      <td>4.0</td>\n",
       "      <td>This is a quite large (for a Hampton Inn) prop...</td>\n",
       "      <td>2020-02-01 00:00:00</td>\n",
       "      <td>Lakeville, Minnesota</td>\n",
       "      <td>Positive</td>\n",
       "    </tr>\n",
       "    <tr>\n",
       "      <th>49</th>\n",
       "      <td>Hampton Inn</td>\n",
       "      <td>Anne S</td>\n",
       "      <td>5.0</td>\n",
       "      <td>The staff was very friendly and helpful.Our ro...</td>\n",
       "      <td>2020-03-01 00:00:00</td>\n",
       "      <td>San Francisco, California</td>\n",
       "      <td>Positive</td>\n",
       "    </tr>\n",
       "    <tr>\n",
       "      <th>50</th>\n",
       "      <td>Hampton Inn</td>\n",
       "      <td>Nschweigart</td>\n",
       "      <td>3.0</td>\n",
       "      <td>This is a nice property near the race track. T...</td>\n",
       "      <td>2020-03-01 00:00:00</td>\n",
       "      <td>NaN</td>\n",
       "      <td>Positive</td>\n",
       "    </tr>\n",
       "    <tr>\n",
       "      <th>51</th>\n",
       "      <td>Hampton Inn</td>\n",
       "      <td>LifeIsBeachy6</td>\n",
       "      <td>5.0</td>\n",
       "      <td>This hotel is wonderful. The location is great...</td>\n",
       "      <td>2020-03-01 00:00:00</td>\n",
       "      <td>Knoxville, Tennessee</td>\n",
       "      <td>Positive</td>\n",
       "    </tr>\n",
       "    <tr>\n",
       "      <th>52</th>\n",
       "      <td>Hampton Inn</td>\n",
       "      <td>Anne S</td>\n",
       "      <td>5.0</td>\n",
       "      <td>The staff was very friendly and helpful.Our ro...</td>\n",
       "      <td>2020-03-01 00:00:00</td>\n",
       "      <td>San Francisco, California</td>\n",
       "      <td>Positive</td>\n",
       "    </tr>\n",
       "    <tr>\n",
       "      <th>53</th>\n",
       "      <td>Hampton Inn</td>\n",
       "      <td>Nschweigart</td>\n",
       "      <td>3.0</td>\n",
       "      <td>This is a nice property near the race track. T...</td>\n",
       "      <td>2020-03-01 00:00:00</td>\n",
       "      <td>NaN</td>\n",
       "      <td>Positive</td>\n",
       "    </tr>\n",
       "    <tr>\n",
       "      <th>54</th>\n",
       "      <td>Hampton Inn</td>\n",
       "      <td>LifeIsBeachy6</td>\n",
       "      <td>5.0</td>\n",
       "      <td>This hotel is wonderful. The location is great...</td>\n",
       "      <td>2020-03-01 00:00:00</td>\n",
       "      <td>Knoxville, Tennessee</td>\n",
       "      <td>Positive</td>\n",
       "    </tr>\n",
       "    <tr>\n",
       "      <th>55</th>\n",
       "      <td>Hampton Inn</td>\n",
       "      <td>Craig S</td>\n",
       "      <td>5.0</td>\n",
       "      <td>The hotel was GREAT, and the location was incr...</td>\n",
       "      <td>2020-03-01 00:00:00</td>\n",
       "      <td>Montgomery, Alabama</td>\n",
       "      <td>Positive</td>\n",
       "    </tr>\n",
       "    <tr>\n",
       "      <th>56</th>\n",
       "      <td>Hampton Inn</td>\n",
       "      <td>Craig S</td>\n",
       "      <td>5.0</td>\n",
       "      <td>The hotel was GREAT, and the location was incr...</td>\n",
       "      <td>2020-03-01 00:00:00</td>\n",
       "      <td>Montgomery, Alabama</td>\n",
       "      <td>Positive</td>\n",
       "    </tr>\n",
       "    <tr>\n",
       "      <th>57</th>\n",
       "      <td>Hampton Inn</td>\n",
       "      <td>Deb</td>\n",
       "      <td>1.0</td>\n",
       "      <td>Very disappointing for many of reasons. Multip...</td>\n",
       "      <td>2020-06-01 00:00:00</td>\n",
       "      <td>NaN</td>\n",
       "      <td>Negative</td>\n",
       "    </tr>\n",
       "    <tr>\n",
       "      <th>58</th>\n",
       "      <td>Hampton Inn</td>\n",
       "      <td>Deb</td>\n",
       "      <td>1.0</td>\n",
       "      <td>Very disappointing for many of reasons. Multip...</td>\n",
       "      <td>2020-06-01 00:00:00</td>\n",
       "      <td>NaN</td>\n",
       "      <td>Negative</td>\n",
       "    </tr>\n",
       "    <tr>\n",
       "      <th>59</th>\n",
       "      <td>Hampton Inn</td>\n",
       "      <td>DeAunderia</td>\n",
       "      <td>3.0</td>\n",
       "      <td>I was so excited to stay here because it was o...</td>\n",
       "      <td>2020-11-01 00:00:00</td>\n",
       "      <td>Austin, Texas</td>\n",
       "      <td>Negative</td>\n",
       "    </tr>\n",
       "    <tr>\n",
       "      <th>60</th>\n",
       "      <td>Hampton Inn</td>\n",
       "      <td>DeAunderia</td>\n",
       "      <td>3.0</td>\n",
       "      <td>I was so excited to stay here because it was o...</td>\n",
       "      <td>2020-11-01 00:00:00</td>\n",
       "      <td>Austin, Texas</td>\n",
       "      <td>Negative</td>\n",
       "    </tr>\n",
       "    <tr>\n",
       "      <th>61</th>\n",
       "      <td>Hampton Inn</td>\n",
       "      <td>30hotrod</td>\n",
       "      <td>5.0</td>\n",
       "      <td>Right from the start the location is great on ...</td>\n",
       "      <td>2020-12-01 00:00:00</td>\n",
       "      <td>Bristol TN</td>\n",
       "      <td>Positive</td>\n",
       "    </tr>\n",
       "  </tbody>\n",
       "</table>\n",
       "</div>"
      ],
      "text/plain": [
       "        hotelID           user  rating  \\\n",
       "47  Hampton Inn       Saysha M     5.0   \n",
       "48  Hampton Inn       Ole_Roll     4.0   \n",
       "49  Hampton Inn         Anne S     5.0   \n",
       "50  Hampton Inn    Nschweigart     3.0   \n",
       "51  Hampton Inn  LifeIsBeachy6     5.0   \n",
       "52  Hampton Inn         Anne S     5.0   \n",
       "53  Hampton Inn    Nschweigart     3.0   \n",
       "54  Hampton Inn  LifeIsBeachy6     5.0   \n",
       "55  Hampton Inn        Craig S     5.0   \n",
       "56  Hampton Inn        Craig S     5.0   \n",
       "57  Hampton Inn            Deb     1.0   \n",
       "58  Hampton Inn            Deb     1.0   \n",
       "59  Hampton Inn     DeAunderia     3.0   \n",
       "60  Hampton Inn     DeAunderia     3.0   \n",
       "61  Hampton Inn       30hotrod     5.0   \n",
       "\n",
       "                                                 text                 date  \\\n",
       "47  Was a great experience. The staff was amazing....  2020-02-01 00:00:00   \n",
       "48  This is a quite large (for a Hampton Inn) prop...  2020-02-01 00:00:00   \n",
       "49  The staff was very friendly and helpful.Our ro...  2020-03-01 00:00:00   \n",
       "50  This is a nice property near the race track. T...  2020-03-01 00:00:00   \n",
       "51  This hotel is wonderful. The location is great...  2020-03-01 00:00:00   \n",
       "52  The staff was very friendly and helpful.Our ro...  2020-03-01 00:00:00   \n",
       "53  This is a nice property near the race track. T...  2020-03-01 00:00:00   \n",
       "54  This hotel is wonderful. The location is great...  2020-03-01 00:00:00   \n",
       "55  The hotel was GREAT, and the location was incr...  2020-03-01 00:00:00   \n",
       "56  The hotel was GREAT, and the location was incr...  2020-03-01 00:00:00   \n",
       "57  Very disappointing for many of reasons. Multip...  2020-06-01 00:00:00   \n",
       "58  Very disappointing for many of reasons. Multip...  2020-06-01 00:00:00   \n",
       "59  I was so excited to stay here because it was o...  2020-11-01 00:00:00   \n",
       "60  I was so excited to stay here because it was o...  2020-11-01 00:00:00   \n",
       "61  Right from the start the location is great on ...  2020-12-01 00:00:00   \n",
       "\n",
       "                     location sentiment  \n",
       "47                        NaN  Positive  \n",
       "48       Lakeville, Minnesota  Positive  \n",
       "49  San Francisco, California  Positive  \n",
       "50                        NaN  Positive  \n",
       "51       Knoxville, Tennessee  Positive  \n",
       "52  San Francisco, California  Positive  \n",
       "53                        NaN  Positive  \n",
       "54       Knoxville, Tennessee  Positive  \n",
       "55        Montgomery, Alabama  Positive  \n",
       "56        Montgomery, Alabama  Positive  \n",
       "57                        NaN  Negative  \n",
       "58                        NaN  Negative  \n",
       "59              Austin, Texas  Negative  \n",
       "60              Austin, Texas  Negative  \n",
       "61                 Bristol TN  Positive  "
      ]
     },
     "execution_count": 49,
     "metadata": {},
     "output_type": "execute_result"
    }
   ],
   "source": [
    "before_award.tail(15)"
   ]
  },
  {
   "cell_type": "code",
   "execution_count": 50,
   "metadata": {},
   "outputs": [],
   "source": [
    "envue['text'] = envue['text'].apply(lambda x:clean(x))\n",
    "from vaderSentiment.vaderSentiment import SentimentIntensityAnalyzer\n",
    "analyser = SentimentIntensityAnalyzer()\n",
    "scores=[]\n",
    "for i in range(len(envue['text'])):\n",
    "    \n",
    "    score = analyser.polarity_scores(envue['text'][i])\n",
    "    score=score['compound']\n",
    "    scores.append(score)\n",
    "sentiment=[]\n",
    "for i in scores:\n",
    "    if i>=0.05:\n",
    "        sentiment.append('Positive')\n",
    "    elif i<=(-0.05):\n",
    "        sentiment.append('Negative')\n",
    "    else:\n",
    "        sentiment.append('Neutral')\n",
    "envue['sentiment']=pd.Series(np.array(sentiment))"
   ]
  },
  {
   "cell_type": "code",
   "execution_count": 51,
   "metadata": {},
   "outputs": [],
   "source": [
    "envue = envue.sort_values(\"date\").reset_index(drop = True)"
   ]
  },
  {
   "cell_type": "code",
   "execution_count": 52,
   "metadata": {},
   "outputs": [
    {
     "name": "stdout",
     "output_type": "stream",
     "text": [
      "Before award, sentiment ratio was : 0.9298245614035088 in Envue Hotel\n",
      "After award, sentiment ratio was : 0.76 in Envue Hotel\n"
     ]
    }
   ],
   "source": [
    "before_award = envue[:114]\n",
    "after_award = envue[114:]\n",
    "print(\"Before award, sentiment ratio was : {} in Envue Hotel\".format((before_award.loc[(before_award.sentiment == \"Positive\")].shape[0]) / before_award.sentiment.shape[0]))\n",
    "print(\"After award, sentiment ratio was : {} in Envue Hotel\".format((after_award.loc[(after_award.sentiment == \"Positive\")].shape[0]) / after_award.sentiment.shape[0]))"
   ]
  },
  {
   "cell_type": "code",
   "execution_count": 54,
   "metadata": {},
   "outputs": [
    {
     "data": {
      "text/html": [
       "<div>\n",
       "<style scoped>\n",
       "    .dataframe tbody tr th:only-of-type {\n",
       "        vertical-align: middle;\n",
       "    }\n",
       "\n",
       "    .dataframe tbody tr th {\n",
       "        vertical-align: top;\n",
       "    }\n",
       "\n",
       "    .dataframe thead th {\n",
       "        text-align: right;\n",
       "    }\n",
       "</style>\n",
       "<table border=\"1\" class=\"dataframe\">\n",
       "  <thead>\n",
       "    <tr style=\"text-align: right;\">\n",
       "      <th></th>\n",
       "      <th>hotelID</th>\n",
       "      <th>user</th>\n",
       "      <th>rating</th>\n",
       "      <th>text</th>\n",
       "      <th>date</th>\n",
       "      <th>location</th>\n",
       "      <th>sentiment</th>\n",
       "    </tr>\n",
       "  </thead>\n",
       "  <tbody>\n",
       "    <tr>\n",
       "      <th>184</th>\n",
       "      <td>Envue</td>\n",
       "      <td>swtazn12</td>\n",
       "      <td>5.0</td>\n",
       "      <td>Front desk upgraded our room to  floor with ro...</td>\n",
       "      <td>2022-04-01 00:00:00</td>\n",
       "      <td>Virginia</td>\n",
       "      <td>Positive</td>\n",
       "    </tr>\n",
       "    <tr>\n",
       "      <th>185</th>\n",
       "      <td>Envue</td>\n",
       "      <td>betsylev</td>\n",
       "      <td>1.0</td>\n",
       "      <td>This is the worst hotel Unless you like sleepi...</td>\n",
       "      <td>2022-05-01 00:00:00</td>\n",
       "      <td>Pittsburgh, Pennsylvania</td>\n",
       "      <td>Negative</td>\n",
       "    </tr>\n",
       "    <tr>\n",
       "      <th>186</th>\n",
       "      <td>Envue</td>\n",
       "      <td>SouthwoodTruck</td>\n",
       "      <td>5.0</td>\n",
       "      <td>Stayed here for business. Actually the locatio...</td>\n",
       "      <td>2022-06-04 00:00:00</td>\n",
       "      <td>Syracuse, New York</td>\n",
       "      <td>Positive</td>\n",
       "    </tr>\n",
       "    <tr>\n",
       "      <th>187</th>\n",
       "      <td>Envue</td>\n",
       "      <td>karpr1</td>\n",
       "      <td>2.0</td>\n",
       "      <td>My husband and I booked a luxury suite for Fri...</td>\n",
       "      <td>2022-06-04 00:00:00</td>\n",
       "      <td>Haddonfield, New Jersey</td>\n",
       "      <td>Negative</td>\n",
       "    </tr>\n",
       "    <tr>\n",
       "      <th>188</th>\n",
       "      <td>Envue</td>\n",
       "      <td>Mariah T</td>\n",
       "      <td>1.0</td>\n",
       "      <td>Shame on Envue for not managing their restaura...</td>\n",
       "      <td>2022-06-11 00:00:00</td>\n",
       "      <td>NaN</td>\n",
       "      <td>Negative</td>\n",
       "    </tr>\n",
       "  </tbody>\n",
       "</table>\n",
       "</div>"
      ],
      "text/plain": [
       "    hotelID            user  rating  \\\n",
       "184   Envue        swtazn12     5.0   \n",
       "185   Envue        betsylev     1.0   \n",
       "186   Envue  SouthwoodTruck     5.0   \n",
       "187   Envue          karpr1     2.0   \n",
       "188   Envue        Mariah T     1.0   \n",
       "\n",
       "                                                  text                 date  \\\n",
       "184  Front desk upgraded our room to  floor with ro...  2022-04-01 00:00:00   \n",
       "185  This is the worst hotel Unless you like sleepi...  2022-05-01 00:00:00   \n",
       "186  Stayed here for business. Actually the locatio...  2022-06-04 00:00:00   \n",
       "187  My husband and I booked a luxury suite for Fri...  2022-06-04 00:00:00   \n",
       "188  Shame on Envue for not managing their restaura...  2022-06-11 00:00:00   \n",
       "\n",
       "                     location sentiment  \n",
       "184                  Virginia  Positive  \n",
       "185  Pittsburgh, Pennsylvania  Negative  \n",
       "186        Syracuse, New York  Positive  \n",
       "187   Haddonfield, New Jersey  Negative  \n",
       "188                       NaN  Negative  "
      ]
     },
     "execution_count": 54,
     "metadata": {},
     "output_type": "execute_result"
    }
   ],
   "source": [
    "envue.tail()"
   ]
  },
  {
   "cell_type": "code",
   "execution_count": 55,
   "metadata": {},
   "outputs": [],
   "source": [
    "sheraton['text'] = sheraton['text'].apply(lambda x:clean(x))\n",
    "from vaderSentiment.vaderSentiment import SentimentIntensityAnalyzer\n",
    "analyser = SentimentIntensityAnalyzer()\n",
    "scores=[]\n",
    "for i in range(len(sheraton['text'])):\n",
    "    \n",
    "    score = analyser.polarity_scores(sheraton['text'][i])\n",
    "    score=score['compound']\n",
    "    scores.append(score)\n",
    "sentiment=[]\n",
    "for i in scores:\n",
    "    if i>=0.05:\n",
    "        sentiment.append('Positive')\n",
    "    elif i<=(-0.05):\n",
    "        sentiment.append('Negative')\n",
    "    else:\n",
    "        sentiment.append('Neutral')\n",
    "sheraton['sentiment']=pd.Series(np.array(sentiment))"
   ]
  },
  {
   "cell_type": "code",
   "execution_count": 56,
   "metadata": {},
   "outputs": [],
   "source": [
    "sheraton = sheraton.sort_values(\"date\").reset_index(drop = True)"
   ]
  },
  {
   "cell_type": "code",
   "execution_count": 57,
   "metadata": {},
   "outputs": [
    {
     "name": "stdout",
     "output_type": "stream",
     "text": [
      "Before award, sentiment ratio was : 0.9 in Sheraton Hotel\n",
      "After award, sentiment ratio was : 0.92 in Sheraton Hotel\n"
     ]
    }
   ],
   "source": [
    "before_award = sheraton[:30]\n",
    "after_award = sheraton[30:]\n",
    "print(\"Before award, sentiment ratio was : {} in Sheraton Hotel\".format((before_award.loc[(before_award.sentiment == \"Positive\")].shape[0]) / before_award.sentiment.shape[0]))\n",
    "print(\"After award, sentiment ratio was : {} in Sheraton Hotel\".format((after_award.loc[(after_award.sentiment == \"Positive\")].shape[0]) / after_award.sentiment.shape[0]))"
   ]
  },
  {
   "cell_type": "code",
   "execution_count": 58,
   "metadata": {},
   "outputs": [],
   "source": [
    "myriad['text'] = myriad['text'].apply(lambda x:clean(x))\n",
    "from vaderSentiment.vaderSentiment import SentimentIntensityAnalyzer\n",
    "analyser = SentimentIntensityAnalyzer()\n",
    "scores=[]\n",
    "for i in range(len(myriad['text'])):\n",
    "    score = analyser.polarity_scores(myriad['text'][i])\n",
    "    score=score['compound']\n",
    "    scores.append(score)\n",
    "sentiment=[]\n",
    "for i in scores:\n",
    "    if i>=0.05:\n",
    "        sentiment.append('Positive')\n",
    "    elif i<=(-0.05):\n",
    "        sentiment.append('Negative')\n",
    "    else:\n",
    "        sentiment.append('Neutral')\n",
    "myriad['sentiment']=pd.Series(np.array(sentiment))"
   ]
  },
  {
   "cell_type": "code",
   "execution_count": 59,
   "metadata": {},
   "outputs": [],
   "source": [
    "myriad = myriad.sort_values(\"date\").reset_index(drop = True)"
   ]
  },
  {
   "cell_type": "code",
   "execution_count": 60,
   "metadata": {},
   "outputs": [
    {
     "name": "stdout",
     "output_type": "stream",
     "text": [
      "Before award, sentiment ratio was : 0.9583333333333334 in Myriad Hotel\n",
      "After award, sentiment ratio was : 1.0 in Myriad Hotel\n"
     ]
    }
   ],
   "source": [
    "before_award = myriad[:120]\n",
    "after_award = myriad[120:]\n",
    "print(\"Before award, sentiment ratio was : {} in Myriad Hotel\".format((before_award.loc[(before_award.sentiment == \"Positive\")].shape[0]) / before_award.sentiment.shape[0]))\n",
    "print(\"After award, sentiment ratio was : {} in Myriad Hotel\".format((after_award.loc[(after_award.sentiment == \"Positive\")].shape[0]) / after_award.sentiment.shape[0]))"
   ]
  },
  {
   "cell_type": "markdown",
   "metadata": {},
   "source": [
    "## Booking Numbers"
   ]
  },
  {
   "cell_type": "code",
   "execution_count": 61,
   "metadata": {},
   "outputs": [],
   "source": [
    "aloft_miami.date = pd.to_datetime(aloft_miami.date)\n",
    "myriad.date = pd.to_datetime(myriad.date)\n",
    "sheraton.date = pd.to_datetime(sheraton.date)\n",
    "envue.date = pd.to_datetime(envue.date)\n",
    "hampton.date = pd.to_datetime(hampton.date)\n"
   ]
  },
  {
   "cell_type": "code",
   "execution_count": 62,
   "metadata": {},
   "outputs": [],
   "source": [
    "aloft_miami[\"year\"] = aloft_miami.date.dt.year\n",
    "myriad[\"year\"] = myriad.date.dt.year\n",
    "sheraton[\"year\"] = sheraton.date.dt.year\n",
    "envue[\"year\"] = envue.date.dt.year\n",
    "hampton[\"year\"] =hampton.date.dt.year\n"
   ]
  },
  {
   "cell_type": "code",
   "execution_count": 63,
   "metadata": {},
   "outputs": [
    {
     "name": "stdout",
     "output_type": "stream",
     "text": [
      "Booking numbers of Aloft Miami have 1.6153846153846154 increased\n"
     ]
    }
   ],
   "source": [
    "aloft_miami_2021 = aloft_miami.loc[(aloft_miami.year>= 2021) & (aloft_miami.year< 2022)].shape[0]\n",
    "aloft_miami_2020 = aloft_miami.loc[(aloft_miami.year>= 2020) & (aloft_miami.year< 2021)].shape[0]\n",
    "\n",
    "print(\"Booking numbers of Aloft Miami have {} increased\".format(aloft_miami_2021/ aloft_miami_2020))"
   ]
  },
  {
   "cell_type": "code",
   "execution_count": 64,
   "metadata": {},
   "outputs": [
    {
     "name": "stdout",
     "output_type": "stream",
     "text": [
      "Booking numbers of Sheraton have 1.368421052631579 increased\n"
     ]
    }
   ],
   "source": [
    "sheraton_2021 = sheraton.loc[(sheraton.year>= 2021) & (sheraton.year< 2022)].shape[0]\n",
    "sheraton_2020 = sheraton.loc[(sheraton.year>= 2020) & (sheraton.year< 2021)].shape[0]\n",
    "\n",
    "print(\"Booking numbers of Sheraton have {} increased\".format(sheraton_2021/ sheraton_2020))"
   ]
  },
  {
   "cell_type": "code",
   "execution_count": 65,
   "metadata": {},
   "outputs": [
    {
     "name": "stdout",
     "output_type": "stream",
     "text": [
      "Booking numbers of Hampton have 1.1842105263157894 increased\n"
     ]
    }
   ],
   "source": [
    "hampton_2021 = hampton.loc[(hampton.year>= 2021) & (hampton.year< 2022)].shape[0]\n",
    "hampton_2020 = hampton.loc[(hampton.year>= 2020) & (hampton.year< 2021)].shape[0]\n",
    "\n",
    "print(\"Booking numbers of Hampton have {} increased\".format(hampton_2021/ hampton_2020))"
   ]
  },
  {
   "cell_type": "code",
   "execution_count": 66,
   "metadata": {},
   "outputs": [
    {
     "name": "stdout",
     "output_type": "stream",
     "text": [
      "Booking numbers of Envue have 1.4444444444444444 increased\n"
     ]
    }
   ],
   "source": [
    "envue_2021 =envue.loc[(envue.year>= 2021) & (envue.year< 2022)].shape[0]\n",
    "envue_2020 =envue.loc[(envue.year>= 2020) & (envue.year< 2021)].shape[0]\n",
    "\n",
    "print(\"Booking numbers of Envue have {} increased\".format(envue_2021/envue_2020))"
   ]
  },
  {
   "cell_type": "code",
   "execution_count": 67,
   "metadata": {},
   "outputs": [
    {
     "name": "stdout",
     "output_type": "stream",
     "text": [
      "Booking numbers of myriad have 1.6944444444444444 increased\n"
     ]
    }
   ],
   "source": [
    "myriad_2021 =myriad.loc[(myriad.year>= 2021) & (myriad.year< 2022)].shape[0]\n",
    "myriad_2020 =myriad.loc[(myriad.year>= 2020) & (myriad.year< 2021)].shape[0]\n",
    "\n",
    "print(\"Booking numbers of myriad have {} increased\".format(myriad_2021/myriad_2020))"
   ]
  },
  {
   "cell_type": "markdown",
   "metadata": {},
   "source": []
  }
 ],
 "metadata": {
  "interpreter": {
   "hash": "40d3a090f54c6569ab1632332b64b2c03c39dcf918b08424e98f38b5ae0af88f"
  },
  "kernelspec": {
   "display_name": "Python 3.9.7 ('base')",
   "language": "python",
   "name": "python3"
  },
  "language_info": {
   "codemirror_mode": {
    "name": "ipython",
    "version": 3
   },
   "file_extension": ".py",
   "mimetype": "text/x-python",
   "name": "python",
   "nbconvert_exporter": "python",
   "pygments_lexer": "ipython3",
   "version": "3.9.7"
  },
  "orig_nbformat": 4
 },
 "nbformat": 4,
 "nbformat_minor": 2
}
